{
  "cells": [
    {
      "cell_type": "code",
      "source": [
        "!pip install catboost"
      ],
      "metadata": {
        "id": "X2k6xNn1__r9"
      },
      "execution_count": 5,
      "outputs": []
    },
    {
      "cell_type": "code",
      "source": [
        "!pip install eli5"
      ],
      "metadata": {
        "id": "ECGw5dGoVxnH"
      },
      "execution_count": 6,
      "outputs": []
    },
    {
      "cell_type": "code",
      "source": [
        "from google.colab import drive\n",
        "drive.mount('/content/drive')"
      ],
      "metadata": {
        "id": "Ht1l4Jr0ZzeS"
      },
      "execution_count": 7,
      "outputs": []
    },
    {
      "cell_type": "code",
      "source": [
        "import warnings\n",
        "warnings.filterwarnings('ignore')\n",
        "import numpy as np\n",
        "import pandas as pd\n",
        "import matplotlib.pyplot as plt\n",
        "import seaborn as sns\n",
        "from sklearn.model_selection import train_test_split\n",
        "from sklearn.metrics import accuracy_score"
      ],
      "metadata": {
        "id": "7o4cBxQt7Nnd"
      },
      "execution_count": 8,
      "outputs": []
    },
    {
      "cell_type": "code",
      "execution_count": 9,
      "metadata": {
        "id": "dOQTLGWm69Xr"
      },
      "outputs": [],
      "source": [
        "pd.options.display.float_format = '{:.2f}'.format \n",
        "plt.rcParams['font.family'] = 'Malgun Gothic'"
      ]
    },
    {
      "cell_type": "code",
      "execution_count": 10,
      "metadata": {
        "id": "yKXHN5Ht69Xv"
      },
      "outputs": [],
      "source": [
        "# 데이터 로드\n",
        "train = pd.read_csv(\"train.csv\")\n",
        "test = pd.read_csv('test.csv')\n",
        "submission = pd.read_csv('sample_submission.csv')"
      ]
    },
    {
      "cell_type": "markdown",
      "metadata": {
        "id": "0JRdziR369YG"
      },
      "source": [
        "## 데이터 확인"
      ]
    },
    {
      "cell_type": "code",
      "execution_count": 11,
      "metadata": {
        "id": "XkLcNikm69YL",
        "colab": {
          "base_uri": "https://localhost:8080/",
          "height": 0
        },
        "outputId": "9ce64174-19bc-4b91-ba0b-95c04c60d88c"
      },
      "outputs": [
        {
          "output_type": "execute_result",
          "data": {
            "text/plain": [
              "   id   Age    TypeofContact  CityTier  DurationOfPitch      Occupation  \\\n",
              "0   1 28.00  Company Invited         1            10.00  Small Business   \n",
              "1   2 34.00     Self Enquiry         3              NaN  Small Business   \n",
              "2   3 45.00  Company Invited         1              NaN        Salaried   \n",
              "3   4 29.00  Company Invited         1             7.00  Small Business   \n",
              "4   5 42.00     Self Enquiry         3             6.00        Salaried   \n",
              "\n",
              "   Gender  NumberOfPersonVisiting  NumberOfFollowups ProductPitched  \\\n",
              "0    Male                       3               4.00          Basic   \n",
              "1  Female                       2               4.00         Deluxe   \n",
              "2    Male                       2               3.00         Deluxe   \n",
              "3    Male                       3               5.00          Basic   \n",
              "4    Male                       2               3.00         Deluxe   \n",
              "\n",
              "   PreferredPropertyStar MaritalStatus  NumberOfTrips  Passport  \\\n",
              "0                   3.00       Married           3.00         0   \n",
              "1                   4.00        Single           1.00         1   \n",
              "2                   4.00       Married           2.00         0   \n",
              "3                   4.00       Married           3.00         0   \n",
              "4                   3.00      Divorced           2.00         0   \n",
              "\n",
              "   PitchSatisfactionScore  OwnCar  NumberOfChildrenVisiting Designation  \\\n",
              "0                       1       0                      1.00   Executive   \n",
              "1                       5       1                      0.00     Manager   \n",
              "2                       4       1                      0.00     Manager   \n",
              "3                       4       0                      1.00   Executive   \n",
              "4                       3       1                      0.00     Manager   \n",
              "\n",
              "   MonthlyIncome  ProdTaken  \n",
              "0       20384.00          0  \n",
              "1       19599.00          1  \n",
              "2            NaN          0  \n",
              "3       21274.00          1  \n",
              "4       19907.00          0  "
            ],
            "text/html": [
              "\n",
              "  <div id=\"df-7e56d612-5c96-44bf-a2c9-c356de3ae837\">\n",
              "    <div class=\"colab-df-container\">\n",
              "      <div>\n",
              "<style scoped>\n",
              "    .dataframe tbody tr th:only-of-type {\n",
              "        vertical-align: middle;\n",
              "    }\n",
              "\n",
              "    .dataframe tbody tr th {\n",
              "        vertical-align: top;\n",
              "    }\n",
              "\n",
              "    .dataframe thead th {\n",
              "        text-align: right;\n",
              "    }\n",
              "</style>\n",
              "<table border=\"1\" class=\"dataframe\">\n",
              "  <thead>\n",
              "    <tr style=\"text-align: right;\">\n",
              "      <th></th>\n",
              "      <th>id</th>\n",
              "      <th>Age</th>\n",
              "      <th>TypeofContact</th>\n",
              "      <th>CityTier</th>\n",
              "      <th>DurationOfPitch</th>\n",
              "      <th>Occupation</th>\n",
              "      <th>Gender</th>\n",
              "      <th>NumberOfPersonVisiting</th>\n",
              "      <th>NumberOfFollowups</th>\n",
              "      <th>ProductPitched</th>\n",
              "      <th>PreferredPropertyStar</th>\n",
              "      <th>MaritalStatus</th>\n",
              "      <th>NumberOfTrips</th>\n",
              "      <th>Passport</th>\n",
              "      <th>PitchSatisfactionScore</th>\n",
              "      <th>OwnCar</th>\n",
              "      <th>NumberOfChildrenVisiting</th>\n",
              "      <th>Designation</th>\n",
              "      <th>MonthlyIncome</th>\n",
              "      <th>ProdTaken</th>\n",
              "    </tr>\n",
              "  </thead>\n",
              "  <tbody>\n",
              "    <tr>\n",
              "      <th>0</th>\n",
              "      <td>1</td>\n",
              "      <td>28.00</td>\n",
              "      <td>Company Invited</td>\n",
              "      <td>1</td>\n",
              "      <td>10.00</td>\n",
              "      <td>Small Business</td>\n",
              "      <td>Male</td>\n",
              "      <td>3</td>\n",
              "      <td>4.00</td>\n",
              "      <td>Basic</td>\n",
              "      <td>3.00</td>\n",
              "      <td>Married</td>\n",
              "      <td>3.00</td>\n",
              "      <td>0</td>\n",
              "      <td>1</td>\n",
              "      <td>0</td>\n",
              "      <td>1.00</td>\n",
              "      <td>Executive</td>\n",
              "      <td>20384.00</td>\n",
              "      <td>0</td>\n",
              "    </tr>\n",
              "    <tr>\n",
              "      <th>1</th>\n",
              "      <td>2</td>\n",
              "      <td>34.00</td>\n",
              "      <td>Self Enquiry</td>\n",
              "      <td>3</td>\n",
              "      <td>NaN</td>\n",
              "      <td>Small Business</td>\n",
              "      <td>Female</td>\n",
              "      <td>2</td>\n",
              "      <td>4.00</td>\n",
              "      <td>Deluxe</td>\n",
              "      <td>4.00</td>\n",
              "      <td>Single</td>\n",
              "      <td>1.00</td>\n",
              "      <td>1</td>\n",
              "      <td>5</td>\n",
              "      <td>1</td>\n",
              "      <td>0.00</td>\n",
              "      <td>Manager</td>\n",
              "      <td>19599.00</td>\n",
              "      <td>1</td>\n",
              "    </tr>\n",
              "    <tr>\n",
              "      <th>2</th>\n",
              "      <td>3</td>\n",
              "      <td>45.00</td>\n",
              "      <td>Company Invited</td>\n",
              "      <td>1</td>\n",
              "      <td>NaN</td>\n",
              "      <td>Salaried</td>\n",
              "      <td>Male</td>\n",
              "      <td>2</td>\n",
              "      <td>3.00</td>\n",
              "      <td>Deluxe</td>\n",
              "      <td>4.00</td>\n",
              "      <td>Married</td>\n",
              "      <td>2.00</td>\n",
              "      <td>0</td>\n",
              "      <td>4</td>\n",
              "      <td>1</td>\n",
              "      <td>0.00</td>\n",
              "      <td>Manager</td>\n",
              "      <td>NaN</td>\n",
              "      <td>0</td>\n",
              "    </tr>\n",
              "    <tr>\n",
              "      <th>3</th>\n",
              "      <td>4</td>\n",
              "      <td>29.00</td>\n",
              "      <td>Company Invited</td>\n",
              "      <td>1</td>\n",
              "      <td>7.00</td>\n",
              "      <td>Small Business</td>\n",
              "      <td>Male</td>\n",
              "      <td>3</td>\n",
              "      <td>5.00</td>\n",
              "      <td>Basic</td>\n",
              "      <td>4.00</td>\n",
              "      <td>Married</td>\n",
              "      <td>3.00</td>\n",
              "      <td>0</td>\n",
              "      <td>4</td>\n",
              "      <td>0</td>\n",
              "      <td>1.00</td>\n",
              "      <td>Executive</td>\n",
              "      <td>21274.00</td>\n",
              "      <td>1</td>\n",
              "    </tr>\n",
              "    <tr>\n",
              "      <th>4</th>\n",
              "      <td>5</td>\n",
              "      <td>42.00</td>\n",
              "      <td>Self Enquiry</td>\n",
              "      <td>3</td>\n",
              "      <td>6.00</td>\n",
              "      <td>Salaried</td>\n",
              "      <td>Male</td>\n",
              "      <td>2</td>\n",
              "      <td>3.00</td>\n",
              "      <td>Deluxe</td>\n",
              "      <td>3.00</td>\n",
              "      <td>Divorced</td>\n",
              "      <td>2.00</td>\n",
              "      <td>0</td>\n",
              "      <td>3</td>\n",
              "      <td>1</td>\n",
              "      <td>0.00</td>\n",
              "      <td>Manager</td>\n",
              "      <td>19907.00</td>\n",
              "      <td>0</td>\n",
              "    </tr>\n",
              "  </tbody>\n",
              "</table>\n",
              "</div>\n",
              "      <button class=\"colab-df-convert\" onclick=\"convertToInteractive('df-7e56d612-5c96-44bf-a2c9-c356de3ae837')\"\n",
              "              title=\"Convert this dataframe to an interactive table.\"\n",
              "              style=\"display:none;\">\n",
              "        \n",
              "  <svg xmlns=\"http://www.w3.org/2000/svg\" height=\"24px\"viewBox=\"0 0 24 24\"\n",
              "       width=\"24px\">\n",
              "    <path d=\"M0 0h24v24H0V0z\" fill=\"none\"/>\n",
              "    <path d=\"M18.56 5.44l.94 2.06.94-2.06 2.06-.94-2.06-.94-.94-2.06-.94 2.06-2.06.94zm-11 1L8.5 8.5l.94-2.06 2.06-.94-2.06-.94L8.5 2.5l-.94 2.06-2.06.94zm10 10l.94 2.06.94-2.06 2.06-.94-2.06-.94-.94-2.06-.94 2.06-2.06.94z\"/><path d=\"M17.41 7.96l-1.37-1.37c-.4-.4-.92-.59-1.43-.59-.52 0-1.04.2-1.43.59L10.3 9.45l-7.72 7.72c-.78.78-.78 2.05 0 2.83L4 21.41c.39.39.9.59 1.41.59.51 0 1.02-.2 1.41-.59l7.78-7.78 2.81-2.81c.8-.78.8-2.07 0-2.86zM5.41 20L4 18.59l7.72-7.72 1.47 1.35L5.41 20z\"/>\n",
              "  </svg>\n",
              "      </button>\n",
              "      \n",
              "  <style>\n",
              "    .colab-df-container {\n",
              "      display:flex;\n",
              "      flex-wrap:wrap;\n",
              "      gap: 12px;\n",
              "    }\n",
              "\n",
              "    .colab-df-convert {\n",
              "      background-color: #E8F0FE;\n",
              "      border: none;\n",
              "      border-radius: 50%;\n",
              "      cursor: pointer;\n",
              "      display: none;\n",
              "      fill: #1967D2;\n",
              "      height: 32px;\n",
              "      padding: 0 0 0 0;\n",
              "      width: 32px;\n",
              "    }\n",
              "\n",
              "    .colab-df-convert:hover {\n",
              "      background-color: #E2EBFA;\n",
              "      box-shadow: 0px 1px 2px rgba(60, 64, 67, 0.3), 0px 1px 3px 1px rgba(60, 64, 67, 0.15);\n",
              "      fill: #174EA6;\n",
              "    }\n",
              "\n",
              "    [theme=dark] .colab-df-convert {\n",
              "      background-color: #3B4455;\n",
              "      fill: #D2E3FC;\n",
              "    }\n",
              "\n",
              "    [theme=dark] .colab-df-convert:hover {\n",
              "      background-color: #434B5C;\n",
              "      box-shadow: 0px 1px 3px 1px rgba(0, 0, 0, 0.15);\n",
              "      filter: drop-shadow(0px 1px 2px rgba(0, 0, 0, 0.3));\n",
              "      fill: #FFFFFF;\n",
              "    }\n",
              "  </style>\n",
              "\n",
              "      <script>\n",
              "        const buttonEl =\n",
              "          document.querySelector('#df-7e56d612-5c96-44bf-a2c9-c356de3ae837 button.colab-df-convert');\n",
              "        buttonEl.style.display =\n",
              "          google.colab.kernel.accessAllowed ? 'block' : 'none';\n",
              "\n",
              "        async function convertToInteractive(key) {\n",
              "          const element = document.querySelector('#df-7e56d612-5c96-44bf-a2c9-c356de3ae837');\n",
              "          const dataTable =\n",
              "            await google.colab.kernel.invokeFunction('convertToInteractive',\n",
              "                                                     [key], {});\n",
              "          if (!dataTable) return;\n",
              "\n",
              "          const docLinkHtml = 'Like what you see? Visit the ' +\n",
              "            '<a target=\"_blank\" href=https://colab.research.google.com/notebooks/data_table.ipynb>data table notebook</a>'\n",
              "            + ' to learn more about interactive tables.';\n",
              "          element.innerHTML = '';\n",
              "          dataTable['output_type'] = 'display_data';\n",
              "          await google.colab.output.renderOutput(dataTable, element);\n",
              "          const docLink = document.createElement('div');\n",
              "          docLink.innerHTML = docLinkHtml;\n",
              "          element.appendChild(docLink);\n",
              "        }\n",
              "      </script>\n",
              "    </div>\n",
              "  </div>\n",
              "  "
            ]
          },
          "metadata": {},
          "execution_count": 11
        }
      ],
      "source": [
        "train.head()"
      ]
    },
    {
      "cell_type": "code",
      "execution_count": 12,
      "metadata": {
        "id": "BnUwaXzd69YQ",
        "colab": {
          "base_uri": "https://localhost:8080/"
        },
        "outputId": "8745f56e-2abe-4a1a-894a-bd5573dff89a"
      },
      "outputs": [
        {
          "output_type": "stream",
          "name": "stdout",
          "text": [
            "<class 'pandas.core.frame.DataFrame'>\n",
            "RangeIndex: 1955 entries, 0 to 1954\n",
            "Data columns (total 20 columns):\n",
            " #   Column                    Non-Null Count  Dtype  \n",
            "---  ------                    --------------  -----  \n",
            " 0   id                        1955 non-null   int64  \n",
            " 1   Age                       1861 non-null   float64\n",
            " 2   TypeofContact             1945 non-null   object \n",
            " 3   CityTier                  1955 non-null   int64  \n",
            " 4   DurationOfPitch           1853 non-null   float64\n",
            " 5   Occupation                1955 non-null   object \n",
            " 6   Gender                    1955 non-null   object \n",
            " 7   NumberOfPersonVisiting    1955 non-null   int64  \n",
            " 8   NumberOfFollowups         1942 non-null   float64\n",
            " 9   ProductPitched            1955 non-null   object \n",
            " 10  PreferredPropertyStar     1945 non-null   float64\n",
            " 11  MaritalStatus             1955 non-null   object \n",
            " 12  NumberOfTrips             1898 non-null   float64\n",
            " 13  Passport                  1955 non-null   int64  \n",
            " 14  PitchSatisfactionScore    1955 non-null   int64  \n",
            " 15  OwnCar                    1955 non-null   int64  \n",
            " 16  NumberOfChildrenVisiting  1928 non-null   float64\n",
            " 17  Designation               1955 non-null   object \n",
            " 18  MonthlyIncome             1855 non-null   float64\n",
            " 19  ProdTaken                 1955 non-null   int64  \n",
            "dtypes: float64(7), int64(7), object(6)\n",
            "memory usage: 305.6+ KB\n"
          ]
        }
      ],
      "source": [
        "train.info()"
      ]
    },
    {
      "cell_type": "code",
      "execution_count": 13,
      "metadata": {
        "id": "k4e7HsH_69YU",
        "colab": {
          "base_uri": "https://localhost:8080/",
          "height": 0
        },
        "outputId": "7732af29-eeda-4759-bbcb-b8e50dd026ab"
      },
      "outputs": [
        {
          "output_type": "execute_result",
          "data": {
            "text/plain": [
              "           id     Age  CityTier  DurationOfPitch  NumberOfPersonVisiting  \\\n",
              "count 1955.00 1861.00   1955.00          1853.00                 1955.00   \n",
              "mean   978.00   37.46      1.64            15.52                    2.92   \n",
              "std    564.50    9.19      0.91             8.15                    0.71   \n",
              "min      1.00   18.00      1.00             5.00                    1.00   \n",
              "25%    489.50   31.00      1.00             9.00                    2.00   \n",
              "50%    978.00   36.00      1.00            14.00                    3.00   \n",
              "75%   1466.50   43.00      3.00            20.00                    3.00   \n",
              "max   1955.00   61.00      3.00            36.00                    5.00   \n",
              "\n",
              "       NumberOfFollowups  PreferredPropertyStar  NumberOfTrips  Passport  \\\n",
              "count            1942.00                1945.00        1898.00   1955.00   \n",
              "mean                3.72                   3.57           3.26      0.29   \n",
              "std                 1.00                   0.79           1.81      0.45   \n",
              "min                 1.00                   3.00           1.00      0.00   \n",
              "25%                 3.00                   3.00           2.00      0.00   \n",
              "50%                 4.00                   3.00           3.00      0.00   \n",
              "75%                 4.00                   4.00           4.00      1.00   \n",
              "max                 6.00                   5.00          19.00      1.00   \n",
              "\n",
              "       PitchSatisfactionScore  OwnCar  NumberOfChildrenVisiting  \\\n",
              "count                 1955.00 1955.00                   1928.00   \n",
              "mean                     3.07    0.62                      1.21   \n",
              "std                      1.37    0.49                      0.86   \n",
              "min                      1.00    0.00                      0.00   \n",
              "25%                      2.00    0.00                      1.00   \n",
              "50%                      3.00    1.00                      1.00   \n",
              "75%                      4.00    1.00                      2.00   \n",
              "max                      5.00    1.00                      3.00   \n",
              "\n",
              "       MonthlyIncome  ProdTaken  \n",
              "count        1855.00    1955.00  \n",
              "mean        23624.11       0.20  \n",
              "std          5640.48       0.40  \n",
              "min          1000.00       0.00  \n",
              "25%         20390.00       0.00  \n",
              "50%         22295.00       0.00  \n",
              "75%         25558.00       0.00  \n",
              "max         98678.00       1.00  "
            ],
            "text/html": [
              "\n",
              "  <div id=\"df-1bd85849-add0-4b97-ae49-89543b17a533\">\n",
              "    <div class=\"colab-df-container\">\n",
              "      <div>\n",
              "<style scoped>\n",
              "    .dataframe tbody tr th:only-of-type {\n",
              "        vertical-align: middle;\n",
              "    }\n",
              "\n",
              "    .dataframe tbody tr th {\n",
              "        vertical-align: top;\n",
              "    }\n",
              "\n",
              "    .dataframe thead th {\n",
              "        text-align: right;\n",
              "    }\n",
              "</style>\n",
              "<table border=\"1\" class=\"dataframe\">\n",
              "  <thead>\n",
              "    <tr style=\"text-align: right;\">\n",
              "      <th></th>\n",
              "      <th>id</th>\n",
              "      <th>Age</th>\n",
              "      <th>CityTier</th>\n",
              "      <th>DurationOfPitch</th>\n",
              "      <th>NumberOfPersonVisiting</th>\n",
              "      <th>NumberOfFollowups</th>\n",
              "      <th>PreferredPropertyStar</th>\n",
              "      <th>NumberOfTrips</th>\n",
              "      <th>Passport</th>\n",
              "      <th>PitchSatisfactionScore</th>\n",
              "      <th>OwnCar</th>\n",
              "      <th>NumberOfChildrenVisiting</th>\n",
              "      <th>MonthlyIncome</th>\n",
              "      <th>ProdTaken</th>\n",
              "    </tr>\n",
              "  </thead>\n",
              "  <tbody>\n",
              "    <tr>\n",
              "      <th>count</th>\n",
              "      <td>1955.00</td>\n",
              "      <td>1861.00</td>\n",
              "      <td>1955.00</td>\n",
              "      <td>1853.00</td>\n",
              "      <td>1955.00</td>\n",
              "      <td>1942.00</td>\n",
              "      <td>1945.00</td>\n",
              "      <td>1898.00</td>\n",
              "      <td>1955.00</td>\n",
              "      <td>1955.00</td>\n",
              "      <td>1955.00</td>\n",
              "      <td>1928.00</td>\n",
              "      <td>1855.00</td>\n",
              "      <td>1955.00</td>\n",
              "    </tr>\n",
              "    <tr>\n",
              "      <th>mean</th>\n",
              "      <td>978.00</td>\n",
              "      <td>37.46</td>\n",
              "      <td>1.64</td>\n",
              "      <td>15.52</td>\n",
              "      <td>2.92</td>\n",
              "      <td>3.72</td>\n",
              "      <td>3.57</td>\n",
              "      <td>3.26</td>\n",
              "      <td>0.29</td>\n",
              "      <td>3.07</td>\n",
              "      <td>0.62</td>\n",
              "      <td>1.21</td>\n",
              "      <td>23624.11</td>\n",
              "      <td>0.20</td>\n",
              "    </tr>\n",
              "    <tr>\n",
              "      <th>std</th>\n",
              "      <td>564.50</td>\n",
              "      <td>9.19</td>\n",
              "      <td>0.91</td>\n",
              "      <td>8.15</td>\n",
              "      <td>0.71</td>\n",
              "      <td>1.00</td>\n",
              "      <td>0.79</td>\n",
              "      <td>1.81</td>\n",
              "      <td>0.45</td>\n",
              "      <td>1.37</td>\n",
              "      <td>0.49</td>\n",
              "      <td>0.86</td>\n",
              "      <td>5640.48</td>\n",
              "      <td>0.40</td>\n",
              "    </tr>\n",
              "    <tr>\n",
              "      <th>min</th>\n",
              "      <td>1.00</td>\n",
              "      <td>18.00</td>\n",
              "      <td>1.00</td>\n",
              "      <td>5.00</td>\n",
              "      <td>1.00</td>\n",
              "      <td>1.00</td>\n",
              "      <td>3.00</td>\n",
              "      <td>1.00</td>\n",
              "      <td>0.00</td>\n",
              "      <td>1.00</td>\n",
              "      <td>0.00</td>\n",
              "      <td>0.00</td>\n",
              "      <td>1000.00</td>\n",
              "      <td>0.00</td>\n",
              "    </tr>\n",
              "    <tr>\n",
              "      <th>25%</th>\n",
              "      <td>489.50</td>\n",
              "      <td>31.00</td>\n",
              "      <td>1.00</td>\n",
              "      <td>9.00</td>\n",
              "      <td>2.00</td>\n",
              "      <td>3.00</td>\n",
              "      <td>3.00</td>\n",
              "      <td>2.00</td>\n",
              "      <td>0.00</td>\n",
              "      <td>2.00</td>\n",
              "      <td>0.00</td>\n",
              "      <td>1.00</td>\n",
              "      <td>20390.00</td>\n",
              "      <td>0.00</td>\n",
              "    </tr>\n",
              "    <tr>\n",
              "      <th>50%</th>\n",
              "      <td>978.00</td>\n",
              "      <td>36.00</td>\n",
              "      <td>1.00</td>\n",
              "      <td>14.00</td>\n",
              "      <td>3.00</td>\n",
              "      <td>4.00</td>\n",
              "      <td>3.00</td>\n",
              "      <td>3.00</td>\n",
              "      <td>0.00</td>\n",
              "      <td>3.00</td>\n",
              "      <td>1.00</td>\n",
              "      <td>1.00</td>\n",
              "      <td>22295.00</td>\n",
              "      <td>0.00</td>\n",
              "    </tr>\n",
              "    <tr>\n",
              "      <th>75%</th>\n",
              "      <td>1466.50</td>\n",
              "      <td>43.00</td>\n",
              "      <td>3.00</td>\n",
              "      <td>20.00</td>\n",
              "      <td>3.00</td>\n",
              "      <td>4.00</td>\n",
              "      <td>4.00</td>\n",
              "      <td>4.00</td>\n",
              "      <td>1.00</td>\n",
              "      <td>4.00</td>\n",
              "      <td>1.00</td>\n",
              "      <td>2.00</td>\n",
              "      <td>25558.00</td>\n",
              "      <td>0.00</td>\n",
              "    </tr>\n",
              "    <tr>\n",
              "      <th>max</th>\n",
              "      <td>1955.00</td>\n",
              "      <td>61.00</td>\n",
              "      <td>3.00</td>\n",
              "      <td>36.00</td>\n",
              "      <td>5.00</td>\n",
              "      <td>6.00</td>\n",
              "      <td>5.00</td>\n",
              "      <td>19.00</td>\n",
              "      <td>1.00</td>\n",
              "      <td>5.00</td>\n",
              "      <td>1.00</td>\n",
              "      <td>3.00</td>\n",
              "      <td>98678.00</td>\n",
              "      <td>1.00</td>\n",
              "    </tr>\n",
              "  </tbody>\n",
              "</table>\n",
              "</div>\n",
              "      <button class=\"colab-df-convert\" onclick=\"convertToInteractive('df-1bd85849-add0-4b97-ae49-89543b17a533')\"\n",
              "              title=\"Convert this dataframe to an interactive table.\"\n",
              "              style=\"display:none;\">\n",
              "        \n",
              "  <svg xmlns=\"http://www.w3.org/2000/svg\" height=\"24px\"viewBox=\"0 0 24 24\"\n",
              "       width=\"24px\">\n",
              "    <path d=\"M0 0h24v24H0V0z\" fill=\"none\"/>\n",
              "    <path d=\"M18.56 5.44l.94 2.06.94-2.06 2.06-.94-2.06-.94-.94-2.06-.94 2.06-2.06.94zm-11 1L8.5 8.5l.94-2.06 2.06-.94-2.06-.94L8.5 2.5l-.94 2.06-2.06.94zm10 10l.94 2.06.94-2.06 2.06-.94-2.06-.94-.94-2.06-.94 2.06-2.06.94z\"/><path d=\"M17.41 7.96l-1.37-1.37c-.4-.4-.92-.59-1.43-.59-.52 0-1.04.2-1.43.59L10.3 9.45l-7.72 7.72c-.78.78-.78 2.05 0 2.83L4 21.41c.39.39.9.59 1.41.59.51 0 1.02-.2 1.41-.59l7.78-7.78 2.81-2.81c.8-.78.8-2.07 0-2.86zM5.41 20L4 18.59l7.72-7.72 1.47 1.35L5.41 20z\"/>\n",
              "  </svg>\n",
              "      </button>\n",
              "      \n",
              "  <style>\n",
              "    .colab-df-container {\n",
              "      display:flex;\n",
              "      flex-wrap:wrap;\n",
              "      gap: 12px;\n",
              "    }\n",
              "\n",
              "    .colab-df-convert {\n",
              "      background-color: #E8F0FE;\n",
              "      border: none;\n",
              "      border-radius: 50%;\n",
              "      cursor: pointer;\n",
              "      display: none;\n",
              "      fill: #1967D2;\n",
              "      height: 32px;\n",
              "      padding: 0 0 0 0;\n",
              "      width: 32px;\n",
              "    }\n",
              "\n",
              "    .colab-df-convert:hover {\n",
              "      background-color: #E2EBFA;\n",
              "      box-shadow: 0px 1px 2px rgba(60, 64, 67, 0.3), 0px 1px 3px 1px rgba(60, 64, 67, 0.15);\n",
              "      fill: #174EA6;\n",
              "    }\n",
              "\n",
              "    [theme=dark] .colab-df-convert {\n",
              "      background-color: #3B4455;\n",
              "      fill: #D2E3FC;\n",
              "    }\n",
              "\n",
              "    [theme=dark] .colab-df-convert:hover {\n",
              "      background-color: #434B5C;\n",
              "      box-shadow: 0px 1px 3px 1px rgba(0, 0, 0, 0.15);\n",
              "      filter: drop-shadow(0px 1px 2px rgba(0, 0, 0, 0.3));\n",
              "      fill: #FFFFFF;\n",
              "    }\n",
              "  </style>\n",
              "\n",
              "      <script>\n",
              "        const buttonEl =\n",
              "          document.querySelector('#df-1bd85849-add0-4b97-ae49-89543b17a533 button.colab-df-convert');\n",
              "        buttonEl.style.display =\n",
              "          google.colab.kernel.accessAllowed ? 'block' : 'none';\n",
              "\n",
              "        async function convertToInteractive(key) {\n",
              "          const element = document.querySelector('#df-1bd85849-add0-4b97-ae49-89543b17a533');\n",
              "          const dataTable =\n",
              "            await google.colab.kernel.invokeFunction('convertToInteractive',\n",
              "                                                     [key], {});\n",
              "          if (!dataTable) return;\n",
              "\n",
              "          const docLinkHtml = 'Like what you see? Visit the ' +\n",
              "            '<a target=\"_blank\" href=https://colab.research.google.com/notebooks/data_table.ipynb>data table notebook</a>'\n",
              "            + ' to learn more about interactive tables.';\n",
              "          element.innerHTML = '';\n",
              "          dataTable['output_type'] = 'display_data';\n",
              "          await google.colab.output.renderOutput(dataTable, element);\n",
              "          const docLink = document.createElement('div');\n",
              "          docLink.innerHTML = docLinkHtml;\n",
              "          element.appendChild(docLink);\n",
              "        }\n",
              "      </script>\n",
              "    </div>\n",
              "  </div>\n",
              "  "
            ]
          },
          "metadata": {},
          "execution_count": 13
        }
      ],
      "source": [
        "train.describe()"
      ]
    },
    {
      "cell_type": "code",
      "execution_count": 14,
      "metadata": {
        "id": "eytHrjko69YX",
        "colab": {
          "base_uri": "https://localhost:8080/",
          "height": 0
        },
        "outputId": "1f12b375-4c9b-44d9-e5cc-198ada1d92d9"
      },
      "outputs": [
        {
          "output_type": "execute_result",
          "data": {
            "text/plain": [
              "           id     Age  CityTier  DurationOfPitch  NumberOfPersonVisiting  \\\n",
              "count 2933.00 2801.00   2933.00          2784.00                 2933.00   \n",
              "mean  1467.00   37.73      1.66            15.47                    2.89   \n",
              "std    846.83    9.40      0.92             8.76                    0.73   \n",
              "min      1.00   18.00      1.00             5.00                    1.00   \n",
              "25%    734.00   31.00      1.00             9.00                    2.00   \n",
              "50%   1467.00   36.00      1.00            13.00                    3.00   \n",
              "75%   2200.00   44.00      3.00            20.00                    3.00   \n",
              "max   2933.00   61.00      3.00           127.00                    5.00   \n",
              "\n",
              "       NumberOfFollowups  PreferredPropertyStar  NumberOfTrips  Passport  \\\n",
              "count            2901.00                2917.00        2850.00   2933.00   \n",
              "mean                3.70                   3.59           3.22      0.29   \n",
              "std                 1.00                   0.80           1.87      0.45   \n",
              "min                 1.00                   3.00           1.00      0.00   \n",
              "25%                 3.00                   3.00           2.00      0.00   \n",
              "50%                 4.00                   3.00           3.00      0.00   \n",
              "75%                 4.00                   4.00           4.00      1.00   \n",
              "max                 6.00                   5.00          22.00      1.00   \n",
              "\n",
              "       PitchSatisfactionScore  OwnCar  NumberOfChildrenVisiting  MonthlyIncome  \n",
              "count                 2933.00 2933.00                   2894.00        2800.00  \n",
              "mean                     3.09    0.62                      1.17       23617.03  \n",
              "std                      1.36    0.49                      0.86        5202.48  \n",
              "min                      1.00    0.00                      0.00        4678.00  \n",
              "25%                      2.00    0.00                      1.00       20295.75  \n",
              "50%                      3.00    1.00                      1.00       22369.50  \n",
              "75%                      4.00    1.00                      2.00       25580.00  \n",
              "max                      5.00    1.00                      3.00       38677.00  "
            ],
            "text/html": [
              "\n",
              "  <div id=\"df-41ff68db-52ae-4cf6-86f7-08ed93f62696\">\n",
              "    <div class=\"colab-df-container\">\n",
              "      <div>\n",
              "<style scoped>\n",
              "    .dataframe tbody tr th:only-of-type {\n",
              "        vertical-align: middle;\n",
              "    }\n",
              "\n",
              "    .dataframe tbody tr th {\n",
              "        vertical-align: top;\n",
              "    }\n",
              "\n",
              "    .dataframe thead th {\n",
              "        text-align: right;\n",
              "    }\n",
              "</style>\n",
              "<table border=\"1\" class=\"dataframe\">\n",
              "  <thead>\n",
              "    <tr style=\"text-align: right;\">\n",
              "      <th></th>\n",
              "      <th>id</th>\n",
              "      <th>Age</th>\n",
              "      <th>CityTier</th>\n",
              "      <th>DurationOfPitch</th>\n",
              "      <th>NumberOfPersonVisiting</th>\n",
              "      <th>NumberOfFollowups</th>\n",
              "      <th>PreferredPropertyStar</th>\n",
              "      <th>NumberOfTrips</th>\n",
              "      <th>Passport</th>\n",
              "      <th>PitchSatisfactionScore</th>\n",
              "      <th>OwnCar</th>\n",
              "      <th>NumberOfChildrenVisiting</th>\n",
              "      <th>MonthlyIncome</th>\n",
              "    </tr>\n",
              "  </thead>\n",
              "  <tbody>\n",
              "    <tr>\n",
              "      <th>count</th>\n",
              "      <td>2933.00</td>\n",
              "      <td>2801.00</td>\n",
              "      <td>2933.00</td>\n",
              "      <td>2784.00</td>\n",
              "      <td>2933.00</td>\n",
              "      <td>2901.00</td>\n",
              "      <td>2917.00</td>\n",
              "      <td>2850.00</td>\n",
              "      <td>2933.00</td>\n",
              "      <td>2933.00</td>\n",
              "      <td>2933.00</td>\n",
              "      <td>2894.00</td>\n",
              "      <td>2800.00</td>\n",
              "    </tr>\n",
              "    <tr>\n",
              "      <th>mean</th>\n",
              "      <td>1467.00</td>\n",
              "      <td>37.73</td>\n",
              "      <td>1.66</td>\n",
              "      <td>15.47</td>\n",
              "      <td>2.89</td>\n",
              "      <td>3.70</td>\n",
              "      <td>3.59</td>\n",
              "      <td>3.22</td>\n",
              "      <td>0.29</td>\n",
              "      <td>3.09</td>\n",
              "      <td>0.62</td>\n",
              "      <td>1.17</td>\n",
              "      <td>23617.03</td>\n",
              "    </tr>\n",
              "    <tr>\n",
              "      <th>std</th>\n",
              "      <td>846.83</td>\n",
              "      <td>9.40</td>\n",
              "      <td>0.92</td>\n",
              "      <td>8.76</td>\n",
              "      <td>0.73</td>\n",
              "      <td>1.00</td>\n",
              "      <td>0.80</td>\n",
              "      <td>1.87</td>\n",
              "      <td>0.45</td>\n",
              "      <td>1.36</td>\n",
              "      <td>0.49</td>\n",
              "      <td>0.86</td>\n",
              "      <td>5202.48</td>\n",
              "    </tr>\n",
              "    <tr>\n",
              "      <th>min</th>\n",
              "      <td>1.00</td>\n",
              "      <td>18.00</td>\n",
              "      <td>1.00</td>\n",
              "      <td>5.00</td>\n",
              "      <td>1.00</td>\n",
              "      <td>1.00</td>\n",
              "      <td>3.00</td>\n",
              "      <td>1.00</td>\n",
              "      <td>0.00</td>\n",
              "      <td>1.00</td>\n",
              "      <td>0.00</td>\n",
              "      <td>0.00</td>\n",
              "      <td>4678.00</td>\n",
              "    </tr>\n",
              "    <tr>\n",
              "      <th>25%</th>\n",
              "      <td>734.00</td>\n",
              "      <td>31.00</td>\n",
              "      <td>1.00</td>\n",
              "      <td>9.00</td>\n",
              "      <td>2.00</td>\n",
              "      <td>3.00</td>\n",
              "      <td>3.00</td>\n",
              "      <td>2.00</td>\n",
              "      <td>0.00</td>\n",
              "      <td>2.00</td>\n",
              "      <td>0.00</td>\n",
              "      <td>1.00</td>\n",
              "      <td>20295.75</td>\n",
              "    </tr>\n",
              "    <tr>\n",
              "      <th>50%</th>\n",
              "      <td>1467.00</td>\n",
              "      <td>36.00</td>\n",
              "      <td>1.00</td>\n",
              "      <td>13.00</td>\n",
              "      <td>3.00</td>\n",
              "      <td>4.00</td>\n",
              "      <td>3.00</td>\n",
              "      <td>3.00</td>\n",
              "      <td>0.00</td>\n",
              "      <td>3.00</td>\n",
              "      <td>1.00</td>\n",
              "      <td>1.00</td>\n",
              "      <td>22369.50</td>\n",
              "    </tr>\n",
              "    <tr>\n",
              "      <th>75%</th>\n",
              "      <td>2200.00</td>\n",
              "      <td>44.00</td>\n",
              "      <td>3.00</td>\n",
              "      <td>20.00</td>\n",
              "      <td>3.00</td>\n",
              "      <td>4.00</td>\n",
              "      <td>4.00</td>\n",
              "      <td>4.00</td>\n",
              "      <td>1.00</td>\n",
              "      <td>4.00</td>\n",
              "      <td>1.00</td>\n",
              "      <td>2.00</td>\n",
              "      <td>25580.00</td>\n",
              "    </tr>\n",
              "    <tr>\n",
              "      <th>max</th>\n",
              "      <td>2933.00</td>\n",
              "      <td>61.00</td>\n",
              "      <td>3.00</td>\n",
              "      <td>127.00</td>\n",
              "      <td>5.00</td>\n",
              "      <td>6.00</td>\n",
              "      <td>5.00</td>\n",
              "      <td>22.00</td>\n",
              "      <td>1.00</td>\n",
              "      <td>5.00</td>\n",
              "      <td>1.00</td>\n",
              "      <td>3.00</td>\n",
              "      <td>38677.00</td>\n",
              "    </tr>\n",
              "  </tbody>\n",
              "</table>\n",
              "</div>\n",
              "      <button class=\"colab-df-convert\" onclick=\"convertToInteractive('df-41ff68db-52ae-4cf6-86f7-08ed93f62696')\"\n",
              "              title=\"Convert this dataframe to an interactive table.\"\n",
              "              style=\"display:none;\">\n",
              "        \n",
              "  <svg xmlns=\"http://www.w3.org/2000/svg\" height=\"24px\"viewBox=\"0 0 24 24\"\n",
              "       width=\"24px\">\n",
              "    <path d=\"M0 0h24v24H0V0z\" fill=\"none\"/>\n",
              "    <path d=\"M18.56 5.44l.94 2.06.94-2.06 2.06-.94-2.06-.94-.94-2.06-.94 2.06-2.06.94zm-11 1L8.5 8.5l.94-2.06 2.06-.94-2.06-.94L8.5 2.5l-.94 2.06-2.06.94zm10 10l.94 2.06.94-2.06 2.06-.94-2.06-.94-.94-2.06-.94 2.06-2.06.94z\"/><path d=\"M17.41 7.96l-1.37-1.37c-.4-.4-.92-.59-1.43-.59-.52 0-1.04.2-1.43.59L10.3 9.45l-7.72 7.72c-.78.78-.78 2.05 0 2.83L4 21.41c.39.39.9.59 1.41.59.51 0 1.02-.2 1.41-.59l7.78-7.78 2.81-2.81c.8-.78.8-2.07 0-2.86zM5.41 20L4 18.59l7.72-7.72 1.47 1.35L5.41 20z\"/>\n",
              "  </svg>\n",
              "      </button>\n",
              "      \n",
              "  <style>\n",
              "    .colab-df-container {\n",
              "      display:flex;\n",
              "      flex-wrap:wrap;\n",
              "      gap: 12px;\n",
              "    }\n",
              "\n",
              "    .colab-df-convert {\n",
              "      background-color: #E8F0FE;\n",
              "      border: none;\n",
              "      border-radius: 50%;\n",
              "      cursor: pointer;\n",
              "      display: none;\n",
              "      fill: #1967D2;\n",
              "      height: 32px;\n",
              "      padding: 0 0 0 0;\n",
              "      width: 32px;\n",
              "    }\n",
              "\n",
              "    .colab-df-convert:hover {\n",
              "      background-color: #E2EBFA;\n",
              "      box-shadow: 0px 1px 2px rgba(60, 64, 67, 0.3), 0px 1px 3px 1px rgba(60, 64, 67, 0.15);\n",
              "      fill: #174EA6;\n",
              "    }\n",
              "\n",
              "    [theme=dark] .colab-df-convert {\n",
              "      background-color: #3B4455;\n",
              "      fill: #D2E3FC;\n",
              "    }\n",
              "\n",
              "    [theme=dark] .colab-df-convert:hover {\n",
              "      background-color: #434B5C;\n",
              "      box-shadow: 0px 1px 3px 1px rgba(0, 0, 0, 0.15);\n",
              "      filter: drop-shadow(0px 1px 2px rgba(0, 0, 0, 0.3));\n",
              "      fill: #FFFFFF;\n",
              "    }\n",
              "  </style>\n",
              "\n",
              "      <script>\n",
              "        const buttonEl =\n",
              "          document.querySelector('#df-41ff68db-52ae-4cf6-86f7-08ed93f62696 button.colab-df-convert');\n",
              "        buttonEl.style.display =\n",
              "          google.colab.kernel.accessAllowed ? 'block' : 'none';\n",
              "\n",
              "        async function convertToInteractive(key) {\n",
              "          const element = document.querySelector('#df-41ff68db-52ae-4cf6-86f7-08ed93f62696');\n",
              "          const dataTable =\n",
              "            await google.colab.kernel.invokeFunction('convertToInteractive',\n",
              "                                                     [key], {});\n",
              "          if (!dataTable) return;\n",
              "\n",
              "          const docLinkHtml = 'Like what you see? Visit the ' +\n",
              "            '<a target=\"_blank\" href=https://colab.research.google.com/notebooks/data_table.ipynb>data table notebook</a>'\n",
              "            + ' to learn more about interactive tables.';\n",
              "          element.innerHTML = '';\n",
              "          dataTable['output_type'] = 'display_data';\n",
              "          await google.colab.output.renderOutput(dataTable, element);\n",
              "          const docLink = document.createElement('div');\n",
              "          docLink.innerHTML = docLinkHtml;\n",
              "          element.appendChild(docLink);\n",
              "        }\n",
              "      </script>\n",
              "    </div>\n",
              "  </div>\n",
              "  "
            ]
          },
          "metadata": {},
          "execution_count": 14
        }
      ],
      "source": [
        "test.describe()"
      ]
    },
    {
      "cell_type": "markdown",
      "source": [
        "결측치 확인"
      ],
      "metadata": {
        "id": "3Asdwn6eu7k8"
      }
    },
    {
      "cell_type": "code",
      "execution_count": 15,
      "metadata": {
        "id": "2Sv9oTji69Yb",
        "colab": {
          "base_uri": "https://localhost:8080/"
        },
        "outputId": "cbc6bef7-6ac3-450f-d6b8-f7143096e9bd"
      },
      "outputs": [
        {
          "output_type": "stream",
          "name": "stdout",
          "text": [
            "결측치가 있는 칼럼은: Age입니다.\n",
            "해당 칼럼에 총 94개의 결측치가 존재합니다. \n",
            "결측치가 있는 칼럼은: TypeofContact입니다.\n",
            "해당 칼럼에 총 10개의 결측치가 존재합니다. \n",
            "결측치가 있는 칼럼은: DurationOfPitch입니다.\n",
            "해당 칼럼에 총 102개의 결측치가 존재합니다. \n",
            "결측치가 있는 칼럼은: NumberOfFollowups입니다.\n",
            "해당 칼럼에 총 13개의 결측치가 존재합니다. \n",
            "결측치가 있는 칼럼은: PreferredPropertyStar입니다.\n",
            "해당 칼럼에 총 10개의 결측치가 존재합니다. \n",
            "결측치가 있는 칼럼은: NumberOfTrips입니다.\n",
            "해당 칼럼에 총 57개의 결측치가 존재합니다. \n",
            "결측치가 있는 칼럼은: NumberOfChildrenVisiting입니다.\n",
            "해당 칼럼에 총 27개의 결측치가 존재합니다. \n",
            "결측치가 있는 칼럼은: MonthlyIncome입니다.\n",
            "해당 칼럼에 총 100개의 결측치가 존재합니다. \n"
          ]
        }
      ],
      "source": [
        "def check_missing_col(dataframe):\n",
        "    missing_col = []\n",
        "    counted_missing_col = 0\n",
        "    for i,col in enumerate(dataframe.columns):\n",
        "        missing_values = sum(dataframe[col].isna())\n",
        "        is_missing = True if missing_values >= 1 else False\n",
        "        if is_missing:\n",
        "            counted_missing_col +=1\n",
        "            print('결측치가 있는 칼럼은: %s입니다.'%col)\n",
        "            print('해당 칼럼에 총 %s개의 결측치가 존재합니다. '%missing_values)\n",
        "            missing_col.append([col, dataframe[col].dtype])\n",
        "    if counted_missing_col == 0:\n",
        "        print('결측치가 존재하지 않습니다.')\n",
        "    return missing_col\n",
        "\n",
        "missing_col = check_missing_col(train)"
      ]
    },
    {
      "cell_type": "code",
      "execution_count": 16,
      "metadata": {
        "id": "Ccf6j2Ic69Yf",
        "colab": {
          "base_uri": "https://localhost:8080/"
        },
        "outputId": "2d7d7bbf-b4dc-47de-9c56-f088d9392e34"
      },
      "outputs": [
        {
          "output_type": "stream",
          "name": "stdout",
          "text": [
            "결측치가 있는 칼럼은: Age입니다.\n",
            "해당 칼럼에 총 132개의 결측치가 존재합니다. \n",
            "결측치가 있는 칼럼은: TypeofContact입니다.\n",
            "해당 칼럼에 총 15개의 결측치가 존재합니다. \n",
            "결측치가 있는 칼럼은: DurationOfPitch입니다.\n",
            "해당 칼럼에 총 149개의 결측치가 존재합니다. \n",
            "결측치가 있는 칼럼은: NumberOfFollowups입니다.\n",
            "해당 칼럼에 총 32개의 결측치가 존재합니다. \n",
            "결측치가 있는 칼럼은: PreferredPropertyStar입니다.\n",
            "해당 칼럼에 총 16개의 결측치가 존재합니다. \n",
            "결측치가 있는 칼럼은: NumberOfTrips입니다.\n",
            "해당 칼럼에 총 83개의 결측치가 존재합니다. \n",
            "결측치가 있는 칼럼은: NumberOfChildrenVisiting입니다.\n",
            "해당 칼럼에 총 39개의 결측치가 존재합니다. \n",
            "결측치가 있는 칼럼은: MonthlyIncome입니다.\n",
            "해당 칼럼에 총 133개의 결측치가 존재합니다. \n"
          ]
        }
      ],
      "source": [
        "missing_col = check_missing_col(test)"
      ]
    },
    {
      "cell_type": "markdown",
      "source": [
        "## 인코딩"
      ],
      "metadata": {
        "id": "2scT3HyRNUyo"
      }
    },
    {
      "cell_type": "markdown",
      "source": [
        "Gender 칼럼에서 'Fe Male'은 'Female'로 변경"
      ],
      "metadata": {
        "id": "Wyyjb6Rjvdfi"
      }
    },
    {
      "cell_type": "markdown",
      "source": [
        "MaritalStatus 칼럼의 Unmarried와 Single의 처리 방안에 대해서도 고민해보았지만,  \n",
        "여행상품을 신청하는데에 있어 완전히 같은 의미라고는 판단하지 않아 따로 처리를 해주진 않음(실제로 처리를 해주지 않는 것이 더 나은 성능을 보이는 것으로 보임)"
      ],
      "metadata": {
        "id": "Fx3jzrQRNvcF"
      }
    },
    {
      "cell_type": "code",
      "source": [
        "train['Gender'].replace({'Fe Male': 'Female'}, inplace=True)\n",
        "test['Gender'].replace({'Fe Male': 'Female'}, inplace=True)"
      ],
      "metadata": {
        "id": "fKg9PQ2V5jRM"
      },
      "execution_count": 17,
      "outputs": []
    },
    {
      "cell_type": "markdown",
      "source": [
        "인코딩 과정에서 결측치를 유지하기 위해 칼럼을 나누어서 인코딩"
      ],
      "metadata": {
        "id": "efUgXyQhwJvx"
      }
    },
    {
      "cell_type": "code",
      "source": [
        "# 결측치 없는 object칼럼\n",
        "features = ['Occupation', 'ProductPitched', 'MaritalStatus', 'Designation','Gender']"
      ],
      "metadata": {
        "id": "sCNq0LPYl568"
      },
      "execution_count": 18,
      "outputs": []
    },
    {
      "cell_type": "code",
      "source": [
        "from sklearn.preprocessing import LabelEncoder"
      ],
      "metadata": {
        "id": "aaEEEr1e0FMF"
      },
      "execution_count": 19,
      "outputs": []
    },
    {
      "cell_type": "code",
      "source": [
        "# train을 먼저 인코딩해서 transform을 시키면 이후 test 인코딩 할때 fit을 못하기 때문에 test를 먼저 인코딩 해줌\n",
        "# train 먼저 인코딩 후 새로운 변수에 할당하는 방법도 있지만 굳이 싶어서 하지 않음\n",
        "\n",
        "# 결측치 없는 object칼럼들 인코딩\n",
        "for o_col in features:\n",
        "    encoder = LabelEncoder()\n",
        "    encoder.fit(train[o_col])\n",
        "    test[o_col] = encoder.transform(test[o_col])"
      ],
      "metadata": {
        "id": "vnbhPyHjvBRC"
      },
      "execution_count": 20,
      "outputs": []
    },
    {
      "cell_type": "code",
      "source": [
        "# 모든 문자형 변수에 대해 encoder를 적용\n",
        "for o_col in features:\n",
        "    encoder = LabelEncoder()\n",
        "    encoder.fit(train[o_col])\n",
        "    train[o_col] = encoder.transform(train[o_col])"
      ],
      "metadata": {
        "id": "TNx_M6hjlcF9"
      },
      "execution_count": 21,
      "outputs": []
    },
    {
      "cell_type": "code",
      "source": [
        "# 결측치 있는 TypeofContact칼럼 결측치 제외하고 따로 인코딩 \n",
        "train['TypeofContact'][train['TypeofContact']=='Self Enquiry'] = 1\n",
        "train['TypeofContact'][train['TypeofContact']=='Company Invited'] = 0\n",
        "\n",
        "test['TypeofContact'][test['TypeofContact']=='Self Enquiry'] = 1\n",
        "test['TypeofContact'][test['TypeofContact']=='Company Invited'] = 0"
      ],
      "metadata": {
        "id": "D_K-OU0TXBMQ"
      },
      "execution_count": 22,
      "outputs": []
    },
    {
      "cell_type": "code",
      "source": [
        "# 결측치 제외하고 숫자형으로 바꿔주기\n",
        "train['TypeofContact'] = train['TypeofContact'].apply(pd.to_numeric, errors='coerce')\n",
        "test['TypeofContact'] = test['TypeofContact'].apply(pd.to_numeric, errors='coerce')"
      ],
      "metadata": {
        "id": "m6wZ0wnVkv-I"
      },
      "execution_count": 23,
      "outputs": []
    },
    {
      "cell_type": "code",
      "source": [
        "missing_col = check_missing_col(train)"
      ],
      "metadata": {
        "colab": {
          "base_uri": "https://localhost:8080/"
        },
        "id": "YlROcGooXafi",
        "outputId": "0247cf88-5351-4848-fff0-11f5fa31f8c1"
      },
      "execution_count": 24,
      "outputs": [
        {
          "output_type": "stream",
          "name": "stdout",
          "text": [
            "결측치가 있는 칼럼은: Age입니다.\n",
            "해당 칼럼에 총 94개의 결측치가 존재합니다. \n",
            "결측치가 있는 칼럼은: TypeofContact입니다.\n",
            "해당 칼럼에 총 10개의 결측치가 존재합니다. \n",
            "결측치가 있는 칼럼은: DurationOfPitch입니다.\n",
            "해당 칼럼에 총 102개의 결측치가 존재합니다. \n",
            "결측치가 있는 칼럼은: NumberOfFollowups입니다.\n",
            "해당 칼럼에 총 13개의 결측치가 존재합니다. \n",
            "결측치가 있는 칼럼은: PreferredPropertyStar입니다.\n",
            "해당 칼럼에 총 10개의 결측치가 존재합니다. \n",
            "결측치가 있는 칼럼은: NumberOfTrips입니다.\n",
            "해당 칼럼에 총 57개의 결측치가 존재합니다. \n",
            "결측치가 있는 칼럼은: NumberOfChildrenVisiting입니다.\n",
            "해당 칼럼에 총 27개의 결측치가 존재합니다. \n",
            "결측치가 있는 칼럼은: MonthlyIncome입니다.\n",
            "해당 칼럼에 총 100개의 결측치가 존재합니다. \n"
          ]
        }
      ]
    },
    {
      "cell_type": "code",
      "source": [
        "# 인코딩 확인\n",
        "train.info()"
      ],
      "metadata": {
        "id": "GXx2laA8Z24r",
        "colab": {
          "base_uri": "https://localhost:8080/"
        },
        "outputId": "f6b12770-8193-4e7e-9a6d-c4b8f903c895"
      },
      "execution_count": 25,
      "outputs": [
        {
          "output_type": "stream",
          "name": "stdout",
          "text": [
            "<class 'pandas.core.frame.DataFrame'>\n",
            "RangeIndex: 1955 entries, 0 to 1954\n",
            "Data columns (total 20 columns):\n",
            " #   Column                    Non-Null Count  Dtype  \n",
            "---  ------                    --------------  -----  \n",
            " 0   id                        1955 non-null   int64  \n",
            " 1   Age                       1861 non-null   float64\n",
            " 2   TypeofContact             1945 non-null   float64\n",
            " 3   CityTier                  1955 non-null   int64  \n",
            " 4   DurationOfPitch           1853 non-null   float64\n",
            " 5   Occupation                1955 non-null   int64  \n",
            " 6   Gender                    1955 non-null   int64  \n",
            " 7   NumberOfPersonVisiting    1955 non-null   int64  \n",
            " 8   NumberOfFollowups         1942 non-null   float64\n",
            " 9   ProductPitched            1955 non-null   int64  \n",
            " 10  PreferredPropertyStar     1945 non-null   float64\n",
            " 11  MaritalStatus             1955 non-null   int64  \n",
            " 12  NumberOfTrips             1898 non-null   float64\n",
            " 13  Passport                  1955 non-null   int64  \n",
            " 14  PitchSatisfactionScore    1955 non-null   int64  \n",
            " 15  OwnCar                    1955 non-null   int64  \n",
            " 16  NumberOfChildrenVisiting  1928 non-null   float64\n",
            " 17  Designation               1955 non-null   int64  \n",
            " 18  MonthlyIncome             1855 non-null   float64\n",
            " 19  ProdTaken                 1955 non-null   int64  \n",
            "dtypes: float64(8), int64(12)\n",
            "memory usage: 305.6 KB\n"
          ]
        }
      ]
    },
    {
      "cell_type": "markdown",
      "source": [
        "## 스케일링"
      ],
      "metadata": {
        "id": "_AP5q89ve7Jt"
      }
    },
    {
      "cell_type": "markdown",
      "source": [
        "최종적으로 tree기반의 catboost를 사용하기 때문에 스케일링의 영향은 거의 없을 것이라 생각함  \n",
        "하지만 결측치를 채우는 과정에서 거리기반 알고리즘 knn을 사용하기 때문에 스케일링이 필요하다고 판단함"
      ],
      "metadata": {
        "id": "gdu5fgcrsSVK"
      }
    },
    {
      "cell_type": "code",
      "source": [
        "# 로그변환 \n",
        "train['DurationOfPitch'] = np.log1p(train['DurationOfPitch'])\n",
        "test['DurationOfPitch'] = np.log1p(test['DurationOfPitch'])\n",
        "\n",
        "train['MonthlyIncome'] = np.log1p(train['MonthlyIncome'])\n",
        "test['MonthlyIncome'] = np.log1p(test['MonthlyIncome'])"
      ],
      "metadata": {
        "id": "fbGfzrfQe9y_"
      },
      "execution_count": 26,
      "outputs": []
    },
    {
      "cell_type": "code",
      "source": [
        "# 변환된 값 확인\n",
        "train.describe()"
      ],
      "metadata": {
        "colab": {
          "base_uri": "https://localhost:8080/",
          "height": 364
        },
        "id": "6-IK5sPVgiQt",
        "outputId": "23adfe17-fdfb-47be-fe36-0e72ce33859f"
      },
      "execution_count": 27,
      "outputs": [
        {
          "output_type": "execute_result",
          "data": {
            "text/plain": [
              "           id     Age  TypeofContact  CityTier  DurationOfPitch  Occupation  \\\n",
              "count 1955.00 1861.00        1945.00   1955.00          1853.00     1955.00   \n",
              "mean   978.00   37.46           0.71      1.64             2.69        2.34   \n",
              "std    564.50    9.19           0.45      0.91             0.47        0.63   \n",
              "min      1.00   18.00           0.00      1.00             1.79        0.00   \n",
              "25%    489.50   31.00           0.00      1.00             2.30        2.00   \n",
              "50%    978.00   36.00           1.00      1.00             2.71        2.00   \n",
              "75%   1466.50   43.00           1.00      3.00             3.04        3.00   \n",
              "max   1955.00   61.00           1.00      3.00             3.61        3.00   \n",
              "\n",
              "       Gender  NumberOfPersonVisiting  NumberOfFollowups  ProductPitched  \\\n",
              "count 1955.00                 1955.00            1942.00         1955.00   \n",
              "mean     0.62                    2.92               3.72            1.17   \n",
              "std      0.49                    0.71               1.00            1.27   \n",
              "min      0.00                    1.00               1.00            0.00   \n",
              "25%      0.00                    2.00               3.00            0.00   \n",
              "50%      1.00                    3.00               4.00            1.00   \n",
              "75%      1.00                    3.00               4.00            2.00   \n",
              "max      1.00                    5.00               6.00            4.00   \n",
              "\n",
              "       PreferredPropertyStar  MaritalStatus  NumberOfTrips  Passport  \\\n",
              "count                1945.00        1955.00        1898.00   1955.00   \n",
              "mean                    3.57           1.28           3.26      0.29   \n",
              "std                     0.79           0.93           1.81      0.45   \n",
              "min                     3.00           0.00           1.00      0.00   \n",
              "25%                     3.00           1.00           2.00      0.00   \n",
              "50%                     3.00           1.00           3.00      0.00   \n",
              "75%                     4.00           2.00           4.00      1.00   \n",
              "max                     5.00           3.00          19.00      1.00   \n",
              "\n",
              "       PitchSatisfactionScore  OwnCar  NumberOfChildrenVisiting  Designation  \\\n",
              "count                 1955.00 1955.00                   1928.00      1955.00   \n",
              "mean                     3.07    0.62                      1.21         1.73   \n",
              "std                      1.37    0.49                      0.86         0.95   \n",
              "min                      1.00    0.00                      0.00         0.00   \n",
              "25%                      2.00    0.00                      1.00         1.00   \n",
              "50%                      3.00    1.00                      1.00         2.00   \n",
              "75%                      4.00    1.00                      2.00         2.00   \n",
              "max                      5.00    1.00                      3.00         4.00   \n",
              "\n",
              "       MonthlyIncome  ProdTaken  \n",
              "count        1855.00    1955.00  \n",
              "mean           10.05       0.20  \n",
              "std             0.22       0.40  \n",
              "min             6.91       0.00  \n",
              "25%             9.92       0.00  \n",
              "50%            10.01       0.00  \n",
              "75%            10.15       0.00  \n",
              "max            11.50       1.00  "
            ],
            "text/html": [
              "\n",
              "  <div id=\"df-ba4432a5-03df-4210-a151-5bb918faa1bb\">\n",
              "    <div class=\"colab-df-container\">\n",
              "      <div>\n",
              "<style scoped>\n",
              "    .dataframe tbody tr th:only-of-type {\n",
              "        vertical-align: middle;\n",
              "    }\n",
              "\n",
              "    .dataframe tbody tr th {\n",
              "        vertical-align: top;\n",
              "    }\n",
              "\n",
              "    .dataframe thead th {\n",
              "        text-align: right;\n",
              "    }\n",
              "</style>\n",
              "<table border=\"1\" class=\"dataframe\">\n",
              "  <thead>\n",
              "    <tr style=\"text-align: right;\">\n",
              "      <th></th>\n",
              "      <th>id</th>\n",
              "      <th>Age</th>\n",
              "      <th>TypeofContact</th>\n",
              "      <th>CityTier</th>\n",
              "      <th>DurationOfPitch</th>\n",
              "      <th>Occupation</th>\n",
              "      <th>Gender</th>\n",
              "      <th>NumberOfPersonVisiting</th>\n",
              "      <th>NumberOfFollowups</th>\n",
              "      <th>ProductPitched</th>\n",
              "      <th>PreferredPropertyStar</th>\n",
              "      <th>MaritalStatus</th>\n",
              "      <th>NumberOfTrips</th>\n",
              "      <th>Passport</th>\n",
              "      <th>PitchSatisfactionScore</th>\n",
              "      <th>OwnCar</th>\n",
              "      <th>NumberOfChildrenVisiting</th>\n",
              "      <th>Designation</th>\n",
              "      <th>MonthlyIncome</th>\n",
              "      <th>ProdTaken</th>\n",
              "    </tr>\n",
              "  </thead>\n",
              "  <tbody>\n",
              "    <tr>\n",
              "      <th>count</th>\n",
              "      <td>1955.00</td>\n",
              "      <td>1861.00</td>\n",
              "      <td>1945.00</td>\n",
              "      <td>1955.00</td>\n",
              "      <td>1853.00</td>\n",
              "      <td>1955.00</td>\n",
              "      <td>1955.00</td>\n",
              "      <td>1955.00</td>\n",
              "      <td>1942.00</td>\n",
              "      <td>1955.00</td>\n",
              "      <td>1945.00</td>\n",
              "      <td>1955.00</td>\n",
              "      <td>1898.00</td>\n",
              "      <td>1955.00</td>\n",
              "      <td>1955.00</td>\n",
              "      <td>1955.00</td>\n",
              "      <td>1928.00</td>\n",
              "      <td>1955.00</td>\n",
              "      <td>1855.00</td>\n",
              "      <td>1955.00</td>\n",
              "    </tr>\n",
              "    <tr>\n",
              "      <th>mean</th>\n",
              "      <td>978.00</td>\n",
              "      <td>37.46</td>\n",
              "      <td>0.71</td>\n",
              "      <td>1.64</td>\n",
              "      <td>2.69</td>\n",
              "      <td>2.34</td>\n",
              "      <td>0.62</td>\n",
              "      <td>2.92</td>\n",
              "      <td>3.72</td>\n",
              "      <td>1.17</td>\n",
              "      <td>3.57</td>\n",
              "      <td>1.28</td>\n",
              "      <td>3.26</td>\n",
              "      <td>0.29</td>\n",
              "      <td>3.07</td>\n",
              "      <td>0.62</td>\n",
              "      <td>1.21</td>\n",
              "      <td>1.73</td>\n",
              "      <td>10.05</td>\n",
              "      <td>0.20</td>\n",
              "    </tr>\n",
              "    <tr>\n",
              "      <th>std</th>\n",
              "      <td>564.50</td>\n",
              "      <td>9.19</td>\n",
              "      <td>0.45</td>\n",
              "      <td>0.91</td>\n",
              "      <td>0.47</td>\n",
              "      <td>0.63</td>\n",
              "      <td>0.49</td>\n",
              "      <td>0.71</td>\n",
              "      <td>1.00</td>\n",
              "      <td>1.27</td>\n",
              "      <td>0.79</td>\n",
              "      <td>0.93</td>\n",
              "      <td>1.81</td>\n",
              "      <td>0.45</td>\n",
              "      <td>1.37</td>\n",
              "      <td>0.49</td>\n",
              "      <td>0.86</td>\n",
              "      <td>0.95</td>\n",
              "      <td>0.22</td>\n",
              "      <td>0.40</td>\n",
              "    </tr>\n",
              "    <tr>\n",
              "      <th>min</th>\n",
              "      <td>1.00</td>\n",
              "      <td>18.00</td>\n",
              "      <td>0.00</td>\n",
              "      <td>1.00</td>\n",
              "      <td>1.79</td>\n",
              "      <td>0.00</td>\n",
              "      <td>0.00</td>\n",
              "      <td>1.00</td>\n",
              "      <td>1.00</td>\n",
              "      <td>0.00</td>\n",
              "      <td>3.00</td>\n",
              "      <td>0.00</td>\n",
              "      <td>1.00</td>\n",
              "      <td>0.00</td>\n",
              "      <td>1.00</td>\n",
              "      <td>0.00</td>\n",
              "      <td>0.00</td>\n",
              "      <td>0.00</td>\n",
              "      <td>6.91</td>\n",
              "      <td>0.00</td>\n",
              "    </tr>\n",
              "    <tr>\n",
              "      <th>25%</th>\n",
              "      <td>489.50</td>\n",
              "      <td>31.00</td>\n",
              "      <td>0.00</td>\n",
              "      <td>1.00</td>\n",
              "      <td>2.30</td>\n",
              "      <td>2.00</td>\n",
              "      <td>0.00</td>\n",
              "      <td>2.00</td>\n",
              "      <td>3.00</td>\n",
              "      <td>0.00</td>\n",
              "      <td>3.00</td>\n",
              "      <td>1.00</td>\n",
              "      <td>2.00</td>\n",
              "      <td>0.00</td>\n",
              "      <td>2.00</td>\n",
              "      <td>0.00</td>\n",
              "      <td>1.00</td>\n",
              "      <td>1.00</td>\n",
              "      <td>9.92</td>\n",
              "      <td>0.00</td>\n",
              "    </tr>\n",
              "    <tr>\n",
              "      <th>50%</th>\n",
              "      <td>978.00</td>\n",
              "      <td>36.00</td>\n",
              "      <td>1.00</td>\n",
              "      <td>1.00</td>\n",
              "      <td>2.71</td>\n",
              "      <td>2.00</td>\n",
              "      <td>1.00</td>\n",
              "      <td>3.00</td>\n",
              "      <td>4.00</td>\n",
              "      <td>1.00</td>\n",
              "      <td>3.00</td>\n",
              "      <td>1.00</td>\n",
              "      <td>3.00</td>\n",
              "      <td>0.00</td>\n",
              "      <td>3.00</td>\n",
              "      <td>1.00</td>\n",
              "      <td>1.00</td>\n",
              "      <td>2.00</td>\n",
              "      <td>10.01</td>\n",
              "      <td>0.00</td>\n",
              "    </tr>\n",
              "    <tr>\n",
              "      <th>75%</th>\n",
              "      <td>1466.50</td>\n",
              "      <td>43.00</td>\n",
              "      <td>1.00</td>\n",
              "      <td>3.00</td>\n",
              "      <td>3.04</td>\n",
              "      <td>3.00</td>\n",
              "      <td>1.00</td>\n",
              "      <td>3.00</td>\n",
              "      <td>4.00</td>\n",
              "      <td>2.00</td>\n",
              "      <td>4.00</td>\n",
              "      <td>2.00</td>\n",
              "      <td>4.00</td>\n",
              "      <td>1.00</td>\n",
              "      <td>4.00</td>\n",
              "      <td>1.00</td>\n",
              "      <td>2.00</td>\n",
              "      <td>2.00</td>\n",
              "      <td>10.15</td>\n",
              "      <td>0.00</td>\n",
              "    </tr>\n",
              "    <tr>\n",
              "      <th>max</th>\n",
              "      <td>1955.00</td>\n",
              "      <td>61.00</td>\n",
              "      <td>1.00</td>\n",
              "      <td>3.00</td>\n",
              "      <td>3.61</td>\n",
              "      <td>3.00</td>\n",
              "      <td>1.00</td>\n",
              "      <td>5.00</td>\n",
              "      <td>6.00</td>\n",
              "      <td>4.00</td>\n",
              "      <td>5.00</td>\n",
              "      <td>3.00</td>\n",
              "      <td>19.00</td>\n",
              "      <td>1.00</td>\n",
              "      <td>5.00</td>\n",
              "      <td>1.00</td>\n",
              "      <td>3.00</td>\n",
              "      <td>4.00</td>\n",
              "      <td>11.50</td>\n",
              "      <td>1.00</td>\n",
              "    </tr>\n",
              "  </tbody>\n",
              "</table>\n",
              "</div>\n",
              "      <button class=\"colab-df-convert\" onclick=\"convertToInteractive('df-ba4432a5-03df-4210-a151-5bb918faa1bb')\"\n",
              "              title=\"Convert this dataframe to an interactive table.\"\n",
              "              style=\"display:none;\">\n",
              "        \n",
              "  <svg xmlns=\"http://www.w3.org/2000/svg\" height=\"24px\"viewBox=\"0 0 24 24\"\n",
              "       width=\"24px\">\n",
              "    <path d=\"M0 0h24v24H0V0z\" fill=\"none\"/>\n",
              "    <path d=\"M18.56 5.44l.94 2.06.94-2.06 2.06-.94-2.06-.94-.94-2.06-.94 2.06-2.06.94zm-11 1L8.5 8.5l.94-2.06 2.06-.94-2.06-.94L8.5 2.5l-.94 2.06-2.06.94zm10 10l.94 2.06.94-2.06 2.06-.94-2.06-.94-.94-2.06-.94 2.06-2.06.94z\"/><path d=\"M17.41 7.96l-1.37-1.37c-.4-.4-.92-.59-1.43-.59-.52 0-1.04.2-1.43.59L10.3 9.45l-7.72 7.72c-.78.78-.78 2.05 0 2.83L4 21.41c.39.39.9.59 1.41.59.51 0 1.02-.2 1.41-.59l7.78-7.78 2.81-2.81c.8-.78.8-2.07 0-2.86zM5.41 20L4 18.59l7.72-7.72 1.47 1.35L5.41 20z\"/>\n",
              "  </svg>\n",
              "      </button>\n",
              "      \n",
              "  <style>\n",
              "    .colab-df-container {\n",
              "      display:flex;\n",
              "      flex-wrap:wrap;\n",
              "      gap: 12px;\n",
              "    }\n",
              "\n",
              "    .colab-df-convert {\n",
              "      background-color: #E8F0FE;\n",
              "      border: none;\n",
              "      border-radius: 50%;\n",
              "      cursor: pointer;\n",
              "      display: none;\n",
              "      fill: #1967D2;\n",
              "      height: 32px;\n",
              "      padding: 0 0 0 0;\n",
              "      width: 32px;\n",
              "    }\n",
              "\n",
              "    .colab-df-convert:hover {\n",
              "      background-color: #E2EBFA;\n",
              "      box-shadow: 0px 1px 2px rgba(60, 64, 67, 0.3), 0px 1px 3px 1px rgba(60, 64, 67, 0.15);\n",
              "      fill: #174EA6;\n",
              "    }\n",
              "\n",
              "    [theme=dark] .colab-df-convert {\n",
              "      background-color: #3B4455;\n",
              "      fill: #D2E3FC;\n",
              "    }\n",
              "\n",
              "    [theme=dark] .colab-df-convert:hover {\n",
              "      background-color: #434B5C;\n",
              "      box-shadow: 0px 1px 3px 1px rgba(0, 0, 0, 0.15);\n",
              "      filter: drop-shadow(0px 1px 2px rgba(0, 0, 0, 0.3));\n",
              "      fill: #FFFFFF;\n",
              "    }\n",
              "  </style>\n",
              "\n",
              "      <script>\n",
              "        const buttonEl =\n",
              "          document.querySelector('#df-ba4432a5-03df-4210-a151-5bb918faa1bb button.colab-df-convert');\n",
              "        buttonEl.style.display =\n",
              "          google.colab.kernel.accessAllowed ? 'block' : 'none';\n",
              "\n",
              "        async function convertToInteractive(key) {\n",
              "          const element = document.querySelector('#df-ba4432a5-03df-4210-a151-5bb918faa1bb');\n",
              "          const dataTable =\n",
              "            await google.colab.kernel.invokeFunction('convertToInteractive',\n",
              "                                                     [key], {});\n",
              "          if (!dataTable) return;\n",
              "\n",
              "          const docLinkHtml = 'Like what you see? Visit the ' +\n",
              "            '<a target=\"_blank\" href=https://colab.research.google.com/notebooks/data_table.ipynb>data table notebook</a>'\n",
              "            + ' to learn more about interactive tables.';\n",
              "          element.innerHTML = '';\n",
              "          dataTable['output_type'] = 'display_data';\n",
              "          await google.colab.output.renderOutput(dataTable, element);\n",
              "          const docLink = document.createElement('div');\n",
              "          docLink.innerHTML = docLinkHtml;\n",
              "          element.appendChild(docLink);\n",
              "        }\n",
              "      </script>\n",
              "    </div>\n",
              "  </div>\n",
              "  "
            ]
          },
          "metadata": {},
          "execution_count": 27
        }
      ]
    },
    {
      "cell_type": "markdown",
      "source": [
        "## 이상치 처리"
      ],
      "metadata": {
        "id": "xLqY755rNiLg"
      }
    },
    {
      "cell_type": "markdown",
      "source": [
        "MonthlyIncome칼럼은 추후 모델에 반영하지 않으므로 이상치 처리 안해줌"
      ],
      "metadata": {
        "id": "2WBYyWSpzyB6"
      }
    },
    {
      "cell_type": "markdown",
      "source": [
        "이상치를 처리할 때 IQR을 활용하였지만, boxplot기준으로 이상치로 분류된다 하더라도   \n",
        "칼럼의 특성을 파악해 이상치로 판단되지 않으면 처리하지 않았음\n"
      ],
      "metadata": {
        "id": "8cH_dzkWQrlN"
      }
    },
    {
      "cell_type": "code",
      "source": [
        "# train과 test를 통합해 이상치 처리 해준 후 다시 분할\n",
        "total_data = pd.concat([train,test])\n",
        "total_data = total_data.reset_index()"
      ],
      "metadata": {
        "id": "IZ6-tEGYNkZj"
      },
      "execution_count": 28,
      "outputs": []
    },
    {
      "cell_type": "code",
      "source": [
        "import seaborn as sns\n",
        "plt.figure(figsize=(15,8))"
      ],
      "metadata": {
        "id": "hOInwXCLNkmh",
        "colab": {
          "base_uri": "https://localhost:8080/",
          "height": 53
        },
        "outputId": "4a0aa896-443c-463c-d5c7-e83d73f72fd3"
      },
      "execution_count": 29,
      "outputs": [
        {
          "output_type": "execute_result",
          "data": {
            "text/plain": [
              "<Figure size 1080x576 with 0 Axes>"
            ]
          },
          "metadata": {},
          "execution_count": 29
        },
        {
          "output_type": "display_data",
          "data": {
            "text/plain": [
              "<Figure size 1080x576 with 0 Axes>"
            ]
          },
          "metadata": {}
        }
      ]
    },
    {
      "cell_type": "code",
      "source": [
        "sns.boxplot(data=total_data['NumberOfFollowups'])"
      ],
      "metadata": {
        "colab": {
          "base_uri": "https://localhost:8080/",
          "height": 301
        },
        "id": "52uJDoCv6nH9",
        "outputId": "058bd5de-1189-492f-ed1d-dcc527957f9d"
      },
      "execution_count": 30,
      "outputs": [
        {
          "output_type": "execute_result",
          "data": {
            "text/plain": [
              "<matplotlib.axes._subplots.AxesSubplot at 0x7f5ee2608e50>"
            ]
          },
          "metadata": {},
          "execution_count": 30
        },
        {
          "output_type": "stream",
          "name": "stderr",
          "text": [
            "WARNING:matplotlib.font_manager:findfont: Font family ['Malgun Gothic'] not found. Falling back to DejaVu Sans.\n"
          ]
        },
        {
          "output_type": "display_data",
          "data": {
            "text/plain": [
              "<Figure size 432x288 with 1 Axes>"
            ],
            "image/png": "[encoded data removed]"
          },
          "metadata": {
            "needs_background": "light"
          }
        }
      ]
    },
    {
      "cell_type": "code",
      "source": [
        "sns.boxplot(data=total_data['DurationOfPitch'])"
      ],
      "metadata": {
        "id": "y23gDCoqNkyH",
        "colab": {
          "base_uri": "https://localhost:8080/",
          "height": 287
        },
        "outputId": "0184942e-87f2-425f-a099-9d2dd972e43a"
      },
      "execution_count": 31,
      "outputs": [
        {
          "output_type": "execute_result",
          "data": {
            "text/plain": [
              "<matplotlib.axes._subplots.AxesSubplot at 0x7f5ee255a110>"
            ]
          },
          "metadata": {},
          "execution_count": 31
        },
        {
          "output_type": "display_data",
          "data": {
            "text/plain": [
              "<Figure size 432x288 with 1 Axes>"
            ],
            "image/png": "[encoded data removed]"
          },
          "metadata": {
            "needs_background": "light"
          }
        }
      ]
    },
    {
      "cell_type": "code",
      "source": [
        "sns.boxplot(data=total_data['NumberOfTrips'])"
      ],
      "metadata": {
        "id": "lCiYJYnpg2C2",
        "colab": {
          "base_uri": "https://localhost:8080/",
          "height": 283
        },
        "outputId": "73e8c67a-2557-4c9e-be0a-0855d18b36aa"
      },
      "execution_count": 32,
      "outputs": [
        {
          "output_type": "execute_result",
          "data": {
            "text/plain": [
              "<matplotlib.axes._subplots.AxesSubplot at 0x7f5ee20770d0>"
            ]
          },
          "metadata": {},
          "execution_count": 32
        },
        {
          "output_type": "display_data",
          "data": {
            "text/plain": [
              "<Figure size 432x288 with 1 Axes>"
            ],
            "image/png": "[encoded data removed]"
          },
          "metadata": {
            "needs_background": "light"
          }
        }
      ]
    },
    {
      "cell_type": "code",
      "source": [
        "# 이상치들 상한값, 하한값으로 대체\n",
        "def outlier(df):\n",
        "    IQR = df.quantile(0.75) - df.quantile(0.25)\n",
        "    line_down = df.quantile(0.25) - IQR*1.5\n",
        "    line_up = df.quantile(0.75) + IQR*1.5\n",
        "\n",
        "    df = df.clip(line_down, line_up)\n",
        "\n",
        "    return df\n",
        "\n",
        "total_data['DurationOfPitch'] = outlier(total_data['DurationOfPitch'])\n",
        "total_data['NumberOfTrips'] = outlier(total_data['NumberOfTrips'])"
      ],
      "metadata": {
        "id": "9RqbH5cyNk7-"
      },
      "execution_count": 33,
      "outputs": []
    },
    {
      "cell_type": "code",
      "source": [
        "train = total_data[~total_data['ProdTaken'].isnull()]\n",
        "test = total_data[total_data['ProdTaken'].isnull()]\n",
        "test = test.drop('ProdTaken',axis=1)"
      ],
      "metadata": {
        "id": "AFZG-qs-N1Sr"
      },
      "execution_count": 34,
      "outputs": []
    },
    {
      "cell_type": "code",
      "source": [
        "train = train.drop(['index'],axis=1)\n",
        "test = test.drop(['index'],axis=1)"
      ],
      "metadata": {
        "id": "TjvFADo8d95-"
      },
      "execution_count": 35,
      "outputs": []
    },
    {
      "cell_type": "markdown",
      "source": [
        "## 결측치 처리"
      ],
      "metadata": {
        "id": "14bpfyA_N7yk"
      }
    },
    {
      "cell_type": "markdown",
      "source": [
        "본 대회를 진행하면서 결측치를 채우는 방안에 대해 많은 고민을 하였다.   \n",
        "각 칼럼마다의 특성을 파악해서 평균, 중앙값, 최빈값 등으로 채우는 방향으로 진행해보고  \n",
        "여러 알고리즘을 활용해 채워보았지만, 결국 knn을 이용해 결측치를 채우는 방식이 가장 성능이 높게 나왔기에 채택하였다.\n"
      ],
      "metadata": {
        "id": "GsHhmNvD0AJc"
      }
    },
    {
      "cell_type": "markdown",
      "source": [
        "결측치를 충분한 근거를 가지고 처리하지 못한점이 아쉬움으로 남는다.  \n",
        "(원래 완벽한 근거를 가지고 진행할 수는 없는가싶기도 하다..)"
      ],
      "metadata": {
        "id": "bdCsonLGR88H"
      }
    },
    {
      "cell_type": "code",
      "source": [
        "# 불필요한 id 칼럼 제거\n",
        "train = train.drop(['id'],axis= 1)\n",
        "test = test.drop(['id'],axis= 1)"
      ],
      "metadata": {
        "id": "HkkkvG0akK2K"
      },
      "execution_count": 36,
      "outputs": []
    },
    {
      "cell_type": "code",
      "source": [
        "from sklearn.impute import KNNImputer\n",
        "\n",
        "imputer = KNNImputer(n_neighbors=3)\n",
        "imputed= imputer.fit_transform(train)\n",
        "train = pd.DataFrame(imputed, columns=train.columns)"
      ],
      "metadata": {
        "id": "MFMuBmdya0JJ"
      },
      "execution_count": 37,
      "outputs": []
    },
    {
      "cell_type": "code",
      "source": [
        "imputer = KNNImputer(n_neighbors=3)\n",
        "\n",
        "test_copy = test.copy()\n",
        "train_drop = train.drop('ProdTaken', axis=1)\n",
        "imputer.fit(train_drop)   # 여기서도 data leakage에 조심하자\n",
        "test = imputer.transform(test)\n",
        "\n",
        "test = pd.DataFrame(test, columns=test_copy.columns)"
      ],
      "metadata": {
        "id": "K4coS9k0ng7P"
      },
      "execution_count": 38,
      "outputs": []
    },
    {
      "cell_type": "code",
      "execution_count": 39,
      "metadata": {
        "id": "5NzihO_q69Yj",
        "colab": {
          "base_uri": "https://localhost:8080/"
        },
        "outputId": "45acda71-016a-4870-a4fd-2dfc468cbe75"
      },
      "outputs": [
        {
          "output_type": "stream",
          "name": "stdout",
          "text": [
            "결측치가 존재하지 않습니다.\n",
            "결측치가 존재하지 않습니다.\n"
          ]
        }
      ],
      "source": [
        "missing_col = check_missing_col(train)\n",
        "missing_col = check_missing_col(test)"
      ]
    },
    {
      "cell_type": "markdown",
      "source": [
        "## Age 범주 변환\n"
      ],
      "metadata": {
        "id": "HOpAm9fiNMpN"
      }
    },
    {
      "cell_type": "markdown",
      "source": [
        "Age 칼럼에 대해 범주화가 꼭 필요한가? 라는 질문에 대해서는 확실히 답하기 어렵다고 생각한다.  \n",
        "하지만 범주화를 함으로써 과적합을 예방하고, 모델 해석측면에서 도움이 된다고 판단해 진행했다."
      ],
      "metadata": {
        "id": "AJxMQFy7S9Pm"
      }
    },
    {
      "cell_type": "code",
      "source": [
        "train['Age'].value_counts().sort_index()"
      ],
      "metadata": {
        "colab": {
          "base_uri": "https://localhost:8080/"
        },
        "id": "Rcp8p4UOdoBb",
        "outputId": "1855e3ba-07eb-449f-88c1-d4c1ddf555e1"
      },
      "execution_count": 40,
      "outputs": [
        {
          "output_type": "execute_result",
          "data": {
            "text/plain": [
              "18.00     5\n",
              "19.00    16\n",
              "20.00    13\n",
              "21.00    17\n",
              "22.00    20\n",
              "         ..\n",
              "57.00     9\n",
              "58.00    11\n",
              "59.00    14\n",
              "60.00    12\n",
              "61.00     3\n",
              "Name: Age, Length: 75, dtype: int64"
            ]
          },
          "metadata": {},
          "execution_count": 40
        }
      ]
    },
    {
      "cell_type": "code",
      "source": [
        "bins = list(range(15, 71, 10))\n",
        "bins_label = [str(x)+\"이상 \"+str(x+10)+\"미만\" for x in bins]\n",
        "train[\"Age_level\"] = pd.cut(train[\"Age\"], bins, right=False, labels=bins_label[:-1])\n",
        "\n",
        "test[\"Age_level\"] = pd.cut(test[\"Age\"], bins, right=False, labels=bins_label[:-1])"
      ],
      "metadata": {
        "id": "pilXSKuUnGfa"
      },
      "execution_count": 41,
      "outputs": []
    },
    {
      "cell_type": "code",
      "source": [
        "train = train.drop(['Age'],axis= 1)\n",
        "test = test.drop(['Age'],axis= 1)"
      ],
      "metadata": {
        "id": "sdlb6ljpnLjI"
      },
      "execution_count": 42,
      "outputs": []
    },
    {
      "cell_type": "code",
      "source": [
        "train['Age_level'].value_counts().sort_index()"
      ],
      "metadata": {
        "id": "FjZ4BLHwokHt",
        "colab": {
          "base_uri": "https://localhost:8080/"
        },
        "outputId": "8bb06f39-31d3-4378-9f99-3f34e49b5bf4"
      },
      "execution_count": 43,
      "outputs": [
        {
          "output_type": "execute_result",
          "data": {
            "text/plain": [
              "15이상 25미만    120\n",
              "25이상 35미만    697\n",
              "35이상 45미만    719\n",
              "45이상 55미만    330\n",
              "55이상 65미만     89\n",
              "Name: Age_level, dtype: int64"
            ]
          },
          "metadata": {},
          "execution_count": 43
        }
      ]
    },
    {
      "cell_type": "code",
      "source": [
        "test['Age_level'].value_counts().sort_index()"
      ],
      "metadata": {
        "id": "3gJYzp_Mo0lQ",
        "colab": {
          "base_uri": "https://localhost:8080/"
        },
        "outputId": "7e3b3523-854f-4d7e-d78b-7a2a035198d6"
      },
      "execution_count": 44,
      "outputs": [
        {
          "output_type": "execute_result",
          "data": {
            "text/plain": [
              "15이상 25미만     160\n",
              "25이상 35미만    1078\n",
              "35이상 45미만    1020\n",
              "45이상 55미만     500\n",
              "55이상 65미만     175\n",
              "Name: Age_level, dtype: int64"
            ]
          },
          "metadata": {},
          "execution_count": 44
        }
      ]
    },
    {
      "cell_type": "markdown",
      "source": [
        "## Age_level 인코딩"
      ],
      "metadata": {
        "id": "leFXpXwlZ9pf"
      }
    },
    {
      "cell_type": "markdown",
      "source": [
        "범주화를 한 Age_level 칼럼에 대한 인코딩을 진행"
      ],
      "metadata": {
        "id": "72W5BEUpTrSL"
      }
    },
    {
      "cell_type": "code",
      "source": [
        "encoder = LabelEncoder() \n",
        "encoder.fit(train['Age_level'])\n",
        "test['Age_level'] = encoder.transform(test['Age_level'])"
      ],
      "metadata": {
        "id": "JqaSFTbMaAYP"
      },
      "execution_count": 45,
      "outputs": []
    },
    {
      "cell_type": "code",
      "source": [
        "encoder = LabelEncoder()\n",
        "encoder.fit(train['Age_level'])\n",
        "train['Age_level'] = encoder.transform(train['Age_level'])"
      ],
      "metadata": {
        "id": "OhD_JU86aAkH"
      },
      "execution_count": 46,
      "outputs": []
    },
    {
      "cell_type": "markdown",
      "metadata": {
        "id": "4tcUqdnM69ZI"
      },
      "source": [
        "## \bFeature Selection"
      ]
    },
    {
      "cell_type": "code",
      "execution_count": 47,
      "metadata": {
        "id": "_DZCvQbp69ZJ"
      },
      "outputs": [],
      "source": [
        "# PermutationImportance 기반으로 중요도 낮다고 판단되는 칼럼 삭제\n",
        "X = train.drop(['ProdTaken','NumberOfChildrenVisiting','MonthlyIncome','NumberOfPersonVisiting'],axis= 1)\n",
        "y = train['ProdTaken']\n",
        "\n",
        "test = test.drop(['NumberOfChildrenVisiting','MonthlyIncome','NumberOfPersonVisiting'],axis= 1)\n",
        "\n",
        "X_train, X_test, y_train, y_test = train_test_split(X, y ,test_size=0.2, random_state=42)"
      ]
    },
    {
      "cell_type": "code",
      "source": [
        "print('학습 데이터 레이블 값 비율')\n",
        "print(y_train.value_counts()/y_train.shape[0] * 100)\n",
        "print('테스트 데이터 레이블 값 비율')\n",
        "print(y_test.value_counts()/y_test.shape[0] * 100)\n"
      ],
      "metadata": {
        "id": "4NkoKdwx1ZQg",
        "colab": {
          "base_uri": "https://localhost:8080/"
        },
        "outputId": "e4d4d46d-4d49-4aa1-c181-e1be68c0095f"
      },
      "execution_count": 48,
      "outputs": [
        {
          "output_type": "stream",
          "name": "stdout",
          "text": [
            "학습 데이터 레이블 값 비율\n",
            "0.00   81.33\n",
            "1.00   18.67\n",
            "Name: ProdTaken, dtype: float64\n",
            "테스트 데이터 레이블 값 비율\n",
            "0.00   76.73\n",
            "1.00   23.27\n",
            "Name: ProdTaken, dtype: float64\n"
          ]
        }
      ]
    },
    {
      "cell_type": "code",
      "source": [
        "# 레이블이 불균형한 데이터임을 확인할 수 있음\n",
        "train['ProdTaken'].value_counts(normalize = True)"
      ],
      "metadata": {
        "id": "qiCqVneIlR9N",
        "colab": {
          "base_uri": "https://localhost:8080/"
        },
        "outputId": "3353bdfb-d5dd-4212-a663-c3a3cfc90619"
      },
      "execution_count": 49,
      "outputs": [
        {
          "output_type": "execute_result",
          "data": {
            "text/plain": [
              "0.00   0.80\n",
              "1.00   0.20\n",
              "Name: ProdTaken, dtype: float64"
            ]
          },
          "metadata": {},
          "execution_count": 49
        }
      ]
    },
    {
      "cell_type": "markdown",
      "source": [
        "불균형 데이터 처리 방안에 대해 고민을 많이 하였다.   \n",
        "SMOTE, ADASYN 등과 같은 오버샘플링 기법들을 사용해보았지만 성능을 향상시키지 못하였다.  \n",
        "따라서 클래스별로 가중치를 다르게 부여하는 class_weight방법을 사용했다. (미미하지만 성능을 향상시킬 수 있었다)\n"
      ],
      "metadata": {
        "id": "TiseQUBiUSJt"
      }
    },
    {
      "cell_type": "markdown",
      "source": [
        "## CatBoost"
      ],
      "metadata": {
        "id": "l0Cr8d-3cyF-"
      }
    },
    {
      "cell_type": "code",
      "source": [
        "from sklearn.utils.class_weight import compute_class_weight\n",
        "\n",
        "# 불균형한 클래스인 것으로 확인되어 class_weight = 'balanced'로 설정해준다. \n",
        "classes = np.unique(y_train)\n",
        "weights = compute_class_weight(class_weight='balanced', classes=classes, y=y_train)\n",
        "class_weights = dict(zip(classes, weights))"
      ],
      "metadata": {
        "id": "XgOgi045jU09"
      },
      "execution_count": 50,
      "outputs": []
    },
    {
      "cell_type": "code",
      "source": [
        "from catboost import CatBoostClassifier"
      ],
      "metadata": {
        "id": "4gxqf3_qy86N"
      },
      "execution_count": 51,
      "outputs": []
    },
    {
      "cell_type": "code",
      "source": [
        "from sklearn.model_selection import cross_val_score\n",
        "cb = CatBoostClassifier(learning_rate= 0.03, max_depth= 10, n_estimators= 1000, \n",
        "                    class_weights= class_weights, subsample = 0.8, colsample_bylevel=1.0, random_state=42, verbose =0)\n",
        "\n",
        "# 성능 지표는 정확도(accuracy) , 교차 검증 세트는 5개 \n",
        "scores = cross_val_score(cb , X, y, scoring='accuracy',cv=5)\n",
        "\n",
        "print('교차 검증별 정확도:',np.round(scores, 4))\n",
        "print('평균 검증 정확도:', np.round(np.mean(scores),4))"
      ],
      "metadata": {
        "id": "uGAKvv-2f0sm",
        "colab": {
          "base_uri": "https://localhost:8080/"
        },
        "outputId": "1ec53b45-278f-418c-d970-a7b08c70dac0"
      },
      "execution_count": 52,
      "outputs": [
        {
          "output_type": "stream",
          "name": "stdout",
          "text": [
            "교차 검증별 정확도: [0.9488 0.9105 0.9258 0.913  0.9386]\n",
            "평균 검증 정확도: 0.9274\n"
          ]
        }
      ]
    },
    {
      "cell_type": "markdown",
      "source": [
        "## PermutationImportance"
      ],
      "metadata": {
        "id": "eiqI5ST3XnT7"
      }
    },
    {
      "cell_type": "code",
      "source": [
        "import eli5\n",
        "from eli5.sklearn import PermutationImportance\n",
        "\n",
        "cb = CatBoostClassifier(learning_rate= 0.03, max_depth= 10, n_estimators= 1000, \n",
        "                    class_weights= class_weights, subsample = 0.8, colsample_bylevel=1.0, random_state=42, verbose =0).fit(X_train, y_train)\n",
        "perm = PermutationImportance(cb, random_state= 42).fit(X_test, y_test)\n",
        "eli5.show_weights(perm, feature_names = X_test.columns.tolist())"
      ],
      "metadata": {
        "id": "OVEQUh-SilWv",
        "colab": {
          "base_uri": "https://localhost:8080/",
          "height": 295
        },
        "outputId": "2d6ec7ab-ba05-4721-9a24-bbeb5a00df90"
      },
      "execution_count": 53,
      "outputs": [
        {
          "output_type": "execute_result",
          "data": {
            "text/plain": [
              "<IPython.core.display.HTML object>"
            ],
            "text/html": [
              "\n",
              "    <style>\n",
              "    table.eli5-weights tr:hover {\n",
              "        filter: brightness(85%);\n",
              "    }\n",
              "</style>\n",
              "\n",
              "\n",
              "\n",
              "    \n",
              "\n",
              "    \n",
              "\n",
              "    \n",
              "\n",
              "    \n",
              "\n",
              "    \n",
              "\n",
              "    \n",
              "\n",
              "\n",
              "    \n",
              "\n",
              "    \n",
              "\n",
              "    \n",
              "\n",
              "    \n",
              "\n",
              "    \n",
              "\n",
              "    \n",
              "\n",
              "\n",
              "    \n",
              "\n",
              "    \n",
              "\n",
              "    \n",
              "\n",
              "    \n",
              "\n",
              "    \n",
              "        <table class=\"eli5-weights eli5-feature-importances\" style=\"border-collapse: collapse; border: none; margin-top: 0em; table-layout: auto;\">\n",
              "    <thead>\n",
              "    <tr style=\"border: none;\">\n",
              "        <th style=\"padding: 0 1em 0 0.5em; text-align: right; border: none;\">Weight</th>\n",
              "        <th style=\"padding: 0 0.5em 0 0.5em; text-align: left; border: none;\">Feature</th>\n",
              "    </tr>\n",
              "    </thead>\n",
              "    <tbody>\n",
              "    \n",
              "        <tr style=\"background-color: hsl(120, 100.00%, 80.00%); border: none;\">\n",
              "            <td style=\"padding: 0 1em 0 0.5em; text-align: right; border: none;\">\n",
              "                0.0895\n",
              "                \n",
              "                    &plusmn; 0.0222\n",
              "                \n",
              "            </td>\n",
              "            <td style=\"padding: 0 0.5em 0 0.5em; text-align: left; border: none;\">\n",
              "                Passport\n",
              "            </td>\n",
              "        </tr>\n",
              "    \n",
              "        <tr style=\"background-color: hsl(120, 100.00%, 88.04%); border: none;\">\n",
              "            <td style=\"padding: 0 1em 0 0.5em; text-align: right; border: none;\">\n",
              "                0.0430\n",
              "                \n",
              "                    &plusmn; 0.0127\n",
              "                \n",
              "            </td>\n",
              "            <td style=\"padding: 0 0.5em 0 0.5em; text-align: left; border: none;\">\n",
              "                ProductPitched\n",
              "            </td>\n",
              "        </tr>\n",
              "    \n",
              "        <tr style=\"background-color: hsl(120, 100.00%, 88.64%); border: none;\">\n",
              "            <td style=\"padding: 0 1em 0 0.5em; text-align: right; border: none;\">\n",
              "                0.0399\n",
              "                \n",
              "                    &plusmn; 0.0147\n",
              "                \n",
              "            </td>\n",
              "            <td style=\"padding: 0 0.5em 0 0.5em; text-align: left; border: none;\">\n",
              "                DurationOfPitch\n",
              "            </td>\n",
              "        </tr>\n",
              "    \n",
              "        <tr style=\"background-color: hsl(120, 100.00%, 88.64%); border: none;\">\n",
              "            <td style=\"padding: 0 1em 0 0.5em; text-align: right; border: none;\">\n",
              "                0.0399\n",
              "                \n",
              "                    &plusmn; 0.0083\n",
              "                \n",
              "            </td>\n",
              "            <td style=\"padding: 0 0.5em 0 0.5em; text-align: left; border: none;\">\n",
              "                PitchSatisfactionScore\n",
              "            </td>\n",
              "        </tr>\n",
              "    \n",
              "        <tr style=\"background-color: hsl(120, 100.00%, 88.84%); border: none;\">\n",
              "            <td style=\"padding: 0 1em 0 0.5em; text-align: right; border: none;\">\n",
              "                0.0389\n",
              "                \n",
              "                    &plusmn; 0.0166\n",
              "                \n",
              "            </td>\n",
              "            <td style=\"padding: 0 0.5em 0 0.5em; text-align: left; border: none;\">\n",
              "                MaritalStatus\n",
              "            </td>\n",
              "        </tr>\n",
              "    \n",
              "        <tr style=\"background-color: hsl(120, 100.00%, 89.05%); border: none;\">\n",
              "            <td style=\"padding: 0 1em 0 0.5em; text-align: right; border: none;\">\n",
              "                0.0379\n",
              "                \n",
              "                    &plusmn; 0.0169\n",
              "                \n",
              "            </td>\n",
              "            <td style=\"padding: 0 0.5em 0 0.5em; text-align: left; border: none;\">\n",
              "                PreferredPropertyStar\n",
              "            </td>\n",
              "        </tr>\n",
              "    \n",
              "        <tr style=\"background-color: hsl(120, 100.00%, 89.16%); border: none;\">\n",
              "            <td style=\"padding: 0 1em 0 0.5em; text-align: right; border: none;\">\n",
              "                0.0373\n",
              "                \n",
              "                    &plusmn; 0.0124\n",
              "                \n",
              "            </td>\n",
              "            <td style=\"padding: 0 0.5em 0 0.5em; text-align: left; border: none;\">\n",
              "                CityTier\n",
              "            </td>\n",
              "        </tr>\n",
              "    \n",
              "        <tr style=\"background-color: hsl(120, 100.00%, 89.36%); border: none;\">\n",
              "            <td style=\"padding: 0 1em 0 0.5em; text-align: right; border: none;\">\n",
              "                0.0363\n",
              "                \n",
              "                    &plusmn; 0.0123\n",
              "                \n",
              "            </td>\n",
              "            <td style=\"padding: 0 0.5em 0 0.5em; text-align: left; border: none;\">\n",
              "                Occupation\n",
              "            </td>\n",
              "        </tr>\n",
              "    \n",
              "        <tr style=\"background-color: hsl(120, 100.00%, 90.00%); border: none;\">\n",
              "            <td style=\"padding: 0 1em 0 0.5em; text-align: right; border: none;\">\n",
              "                0.0332\n",
              "                \n",
              "                    &plusmn; 0.0125\n",
              "                \n",
              "            </td>\n",
              "            <td style=\"padding: 0 0.5em 0 0.5em; text-align: left; border: none;\">\n",
              "                TypeofContact\n",
              "            </td>\n",
              "        </tr>\n",
              "    \n",
              "        <tr style=\"background-color: hsl(120, 100.00%, 92.51%); border: none;\">\n",
              "            <td style=\"padding: 0 1em 0 0.5em; text-align: right; border: none;\">\n",
              "                0.0220\n",
              "                \n",
              "                    &plusmn; 0.0173\n",
              "                \n",
              "            </td>\n",
              "            <td style=\"padding: 0 0.5em 0 0.5em; text-align: left; border: none;\">\n",
              "                NumberOfTrips\n",
              "            </td>\n",
              "        </tr>\n",
              "    \n",
              "        <tr style=\"background-color: hsl(120, 100.00%, 93.01%); border: none;\">\n",
              "            <td style=\"padding: 0 1em 0 0.5em; text-align: right; border: none;\">\n",
              "                0.0199\n",
              "                \n",
              "                    &plusmn; 0.0060\n",
              "                \n",
              "            </td>\n",
              "            <td style=\"padding: 0 0.5em 0 0.5em; text-align: left; border: none;\">\n",
              "                Designation\n",
              "            </td>\n",
              "        </tr>\n",
              "    \n",
              "        <tr style=\"background-color: hsl(120, 100.00%, 93.78%); border: none;\">\n",
              "            <td style=\"padding: 0 1em 0 0.5em; text-align: right; border: none;\">\n",
              "                0.0169\n",
              "                \n",
              "                    &plusmn; 0.0128\n",
              "                \n",
              "            </td>\n",
              "            <td style=\"padding: 0 0.5em 0 0.5em; text-align: left; border: none;\">\n",
              "                Gender\n",
              "            </td>\n",
              "        </tr>\n",
              "    \n",
              "        <tr style=\"background-color: hsl(120, 100.00%, 94.59%); border: none;\">\n",
              "            <td style=\"padding: 0 1em 0 0.5em; text-align: right; border: none;\">\n",
              "                0.0138\n",
              "                \n",
              "                    &plusmn; 0.0069\n",
              "                \n",
              "            </td>\n",
              "            <td style=\"padding: 0 0.5em 0 0.5em; text-align: left; border: none;\">\n",
              "                Age_level\n",
              "            </td>\n",
              "        </tr>\n",
              "    \n",
              "        <tr style=\"background-color: hsl(120, 100.00%, 95.02%); border: none;\">\n",
              "            <td style=\"padding: 0 1em 0 0.5em; text-align: right; border: none;\">\n",
              "                0.0123\n",
              "                \n",
              "                    &plusmn; 0.0020\n",
              "                \n",
              "            </td>\n",
              "            <td style=\"padding: 0 0.5em 0 0.5em; text-align: left; border: none;\">\n",
              "                NumberOfFollowups\n",
              "            </td>\n",
              "        </tr>\n",
              "    \n",
              "        <tr style=\"background-color: hsl(0, 100.00%, 97.69%); border: none;\">\n",
              "            <td style=\"padding: 0 1em 0 0.5em; text-align: right; border: none;\">\n",
              "                -0.0041\n",
              "                \n",
              "                    &plusmn; 0.0069\n",
              "                \n",
              "            </td>\n",
              "            <td style=\"padding: 0 0.5em 0 0.5em; text-align: left; border: none;\">\n",
              "                OwnCar\n",
              "            </td>\n",
              "        </tr>\n",
              "    \n",
              "    \n",
              "    </tbody>\n",
              "</table>\n",
              "    \n",
              "\n",
              "    \n",
              "\n",
              "\n",
              "    \n",
              "\n",
              "    \n",
              "\n",
              "    \n",
              "\n",
              "    \n",
              "\n",
              "    \n",
              "\n",
              "    \n",
              "\n",
              "\n",
              "\n"
            ]
          },
          "metadata": {},
          "execution_count": 53
        }
      ]
    },
    {
      "cell_type": "markdown",
      "source": [
        "## 제출"
      ],
      "metadata": {
        "id": "Vu2SFmbYbSwY"
      }
    },
    {
      "cell_type": "code",
      "source": [
        "cb = CatBoostClassifier(learning_rate= 0.03, max_depth= 10, n_estimators= 1000, \n",
        "                    class_weights= class_weights, subsample = 0.8, colsample_bylevel=1.0, random_state=42, verbose =0)\n",
        " \n",
        "cb.fit(X, y)\n",
        "\n",
        "pred = cb.predict(test)"
      ],
      "metadata": {
        "id": "iwXZMKPri0_-"
      },
      "execution_count": null,
      "outputs": []
    },
    {
      "cell_type": "code",
      "source": [
        "submission['ProdTaken'] = pred\n",
        "submission.to_csv('\bsubmission.csv', index=False)\n",
        "submission"
      ],
      "metadata": {
        "id": "QnkOaapTi1TI"
      },
      "execution_count": null,
      "outputs": []
    }
  ],
  "metadata": {
    "kernelspec": {
      "display_name": "Python 3.9.7 64-bit",
      "language": "python",
      "name": "python3"
    },
    "language_info": {
      "codemirror_mode": {
        "name": "ipython",
        "version": 3
      },
      "file_extension": ".py",
      "mimetype": "text/x-python",
      "name": "python",
      "nbconvert_exporter": "python",
      "pygments_lexer": "ipython3",
      "version": "3.9.7"
    },
    "orig_nbformat": 4,
    "vscode": {
      "interpreter": {
        "hash": "ad2bdc8ecc057115af97d19610ffacc2b4e99fae6737bb82f5d7fb13d2f2c186"
      }
    },
    "colab": {
      "provenance": [],
      "collapsed_sections": [
        "0JRdziR369YG",
        "2scT3HyRNUyo",
        "_AP5q89ve7Jt",
        "xLqY755rNiLg",
        "14bpfyA_N7yk",
        "HOpAm9fiNMpN",
        "leFXpXwlZ9pf",
        "4tcUqdnM69ZI"
      ]
    },
    "gpuClass": "standard"
  },
  "nbformat": 4,
  "nbformat_minor": 0
}